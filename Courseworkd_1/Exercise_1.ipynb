{
 "cells": [
  {
   "cell_type": "code",
   "execution_count": 24,
   "metadata": {
    "collapsed": true,
    "ExecuteTime": {
     "end_time": "2023-12-05T17:47:30.733503500Z",
     "start_time": "2023-12-05T17:47:30.620982800Z"
    }
   },
   "outputs": [],
   "source": [
    "import numpy as np\n",
    "from numpy.linalg import inv\n",
    "import timeit\n",
    "import cvxpy as cp\n",
    "\n",
    "import matplotlib.pyplot as plt\n",
    "import seaborn as sns"
   ]
  },
  {
   "cell_type": "code",
   "execution_count": 25,
   "outputs": [],
   "source": [
    "sns.set(rc={'figure.figsize':(14,8.27)}, font_scale=2)\n",
    "sns.set_palette('colorblind')"
   ],
   "metadata": {
    "collapsed": false,
    "ExecuteTime": {
     "end_time": "2023-12-05T17:47:30.887529500Z",
     "start_time": "2023-12-05T17:47:30.637985800Z"
    }
   }
  },
  {
   "cell_type": "markdown",
   "source": [
    "# A)"
   ],
   "metadata": {
    "collapsed": false
   }
  },
  {
   "cell_type": "markdown",
   "source": [
    "$l_1$: $||$**x**$||_1 = |x_1| + ... + |x_m|$\n",
    "$l_2$: $||$**x**$||_2 = \\sqrt{|x_1|^2 + ... + |x_m|^2}$\n",
    "$l_\\infty$: $||$**x**$||_\\infty = max(|x_1| , ... , |x_m|)$"
   ],
   "metadata": {
    "collapsed": false
   }
  },
  {
   "cell_type": "markdown",
   "source": [
    "$min_x$$||Ax-b||_1 = min_x \\sum_{i=1}^m |  a_{i} x - b_i |$\n",
    "$min_x$$||Ax-b||_2 = min_x \\sqrt{ \\sum_{i=1}^m ( a_{i} x - b_i ) ^2 }$\n",
    "$min_x$$||Ax-b||_ \\infty = min_x (max_i|a_i^Tx - b_i|)$"
   ],
   "metadata": {
    "collapsed": false
   }
  },
  {
   "cell_type": "markdown",
   "source": [
    "$||Ax-b||_2^2 =  \\sum_i^m \\left( \\sum_j^n a_{ij} x_j - b_i \\right) ^2$\n",
    "produces minimum when gradient is zero w.r.t. $x$.\n",
    "\n",
    "$\\frac{\\partial f}{\\partial x_p} = 2 \\sum_i^m  a_{ip} \\sum_j^n ( a_{ij} x_j - b_i ) = 0$  <br/>\n",
    "$ 2 \\sum_i^m  a_{ip} \\sum_j^n a_{ij} x_j  = 2 \\sum_i^m a_{ip} \\sum_j^n  b_i $\n",
    "\n",
    "in matrix form:\n",
    "<br/>\n",
    "$  A^T A x =  A^T b$\n",
    "$  \\rightarrow  x =  (A^T A)^{-1} A^T b$ <br/>\n",
    "\n",
    "Convex as quadratics only have one minimum"
   ],
   "metadata": {
    "collapsed": false
   }
  },
  {
   "cell_type": "markdown",
   "source": [
    "# B)"
   ],
   "metadata": {
    "collapsed": false
   }
  },
  {
   "cell_type": "markdown",
   "source": [
    "$min_x$$||Ax-b||_ \\infty = min_x (max_i|a_i^Tx - b_i|)$\n",
    "$min_x$$||Ax-b||_ \\infty = min_x (min_t( -t \\leq a_i^Tx - b_i \\leq t))$\n",
    "$min_x (min_t( -t \\leq a_i^Tx - b_i \\leq t)) = min_{x,t} t$\n",
    "with $-t \\leq a_i^Tx - b_i \\leq t$ for $i=1,...,m$\n",
    "This is equivalent to $min_x \\tilde{c}^T \\tilde{x}$ with constraint $\\tilde{A} \\tilde{x} \\leq \\tilde{b}$\n",
    "Where $$ \\tilde{x} =\n",
    "\\left(\\begin{array}{cc}\n",
    "x \\\\\n",
    "t\n",
    "\\end{array}\\right)\n",
    "$$\n",
    "$$ \\tilde{c} =\n",
    "\\left(\\begin{array}{cc}\n",
    "0 \\\\\n",
    "1\n",
    "\\end{array}\\right)\n",
    "$$\n",
    "$$ \\tilde{A} =\n",
    "\\left(\\begin{array}{cc}\n",
    "A & -1\\\\\n",
    "-A & -1\n",
    "\\end{array}\\right)\n",
    "$$\n",
    "$$ \\tilde{b} =\n",
    "\\left(\\begin{array}{cc}\n",
    "b\\\\\n",
    "-b\n",
    "\\end{array}\\right)\n",
    "$$"
   ],
   "metadata": {
    "collapsed": false
   }
  },
  {
   "cell_type": "markdown",
   "source": [
    "$min_x$$||Ax-b||_1 = min_x \\sum_{i=1}^m |  a_{i} x - b_i |$\n",
    "$min_x$$||Ax-b||_1 = min_x \\sum_{i=1}^m min_{t_i}( -t_i \\leq a_i^Tx - b_i \\leq t_i)$\n",
    "which is $min_{x,t_i} \\sum_{i=1}^m t_i$\n",
    "with $-t_i \\leq a_i^Tx - b_i \\leq t_i$ for $i=1,...,m$\n",
    "This is equivalent to $min_x \\tilde{c}^T \\tilde{x}$ with constraint $\\tilde{A} \\tilde{x} \\leq \\tilde{b}$\n",
    "Where $$ \\tilde{x} =\n",
    "\\left(\\begin{array}{cc}\n",
    "x \\\\\n",
    "t\n",
    "\\end{array}\\right)\n",
    "$$\n",
    "$$ \\tilde{c} =\n",
    "\\left(\\begin{array}{cc}\n",
    "0 \\\\\n",
    "\\textbf{1}\n",
    "\\end{array}\\right)\n",
    "$$\n",
    "$$ \\tilde{A} =\n",
    "\\left(\\begin{array}{cc}\n",
    "A & -\\textbf{I}\\\\\n",
    "-A & -\\textbf{I}\n",
    "\\end{array}\\right)\n",
    "$$\n",
    "$$ \\tilde{b} =\n",
    "\\left(\\begin{array}{cc}\n",
    "b\\\\\n",
    "-b\n",
    "\\end{array}\\right)\n",
    "$$"
   ],
   "metadata": {
    "collapsed": false
   }
  },
  {
   "cell_type": "markdown",
   "source": [
    "# C)"
   ],
   "metadata": {
    "collapsed": false
   }
  },
  {
   "cell_type": "markdown",
   "source": [
    "$min_x \\tilde{c}^T \\tilde{x}$ subject to $\\tilde{A} \\tilde{x} \\leq \\tilde{b}$\n",
    "\n",
    "Lagragian:\n",
    "$L(x, \\lambda) = \\tilde{c}^T \\tilde{x} +  \\lambda^T (\\tilde{A} \\tilde{x} - \\tilde{b})$\n",
    "$= - \\tilde{b}^T \\lambda + (\\tilde{A}^T \\lambda + \\tilde{c})^T \\tilde{x}$\n",
    "\n",
    "Dual Cost:\n",
    "$min_x L(x, \\lambda) = - \\tilde{b}^T \\lambda$ if $\\tilde{A}^T \\lambda + \\tilde{c} = 0$\n",
    "or $- \\infty$ otherwise\n",
    "\n",
    "Dual LP problem:\n",
    "$max_{\\lambda}( - \\tilde{b}^T \\lambda)$ subject to $\\tilde{A}^T \\lambda + \\tilde{c} = 0$ and $\\lambda \\geq 0$"
   ],
   "metadata": {
    "collapsed": false
   }
  },
  {
   "cell_type": "markdown",
   "source": [
    "# D)/E)"
   ],
   "metadata": {
    "collapsed": false
   }
  },
  {
   "cell_type": "code",
   "execution_count": 27,
   "outputs": [],
   "source": [
    "Ab = []\n",
    "for i in range(5):\n",
    "    A = np.genfromtxt('2023-data/A' + str(i) + '.csv', delimiter=\",\")\n",
    "    b = np.genfromtxt('2023-data/b' + str(i) + '.csv', delimiter=\",\")\n",
    "    Ab.append((A, b))"
   ],
   "metadata": {
    "collapsed": false,
    "ExecuteTime": {
     "end_time": "2023-12-05T17:47:34.539664400Z",
     "start_time": "2023-12-05T17:47:30.676992700Z"
    }
   }
  },
  {
   "cell_type": "code",
   "execution_count": 28,
   "outputs": [],
   "source": [
    "def lp(data, norm, method, iterations):\n",
    "    times = np.zeros(5)\n",
    "    residuals = [None] * 5\n",
    "    opt = np.zeros(5)\n",
    "    low_bound = np.zeros(5)\n",
    "    for iter in range(iterations):\n",
    "        for i, (A,b) in enumerate(data):\n",
    "\n",
    "            m, n = A.shape\n",
    "\n",
    "            if norm == 'l1':\n",
    "                x = cp.Variable(n+m)\n",
    "                c_til = np.zeros((n + m,))\n",
    "                c_til[-m:] = 1\n",
    "                b_til = np.hstack((b, -b))\n",
    "                I = np.identity(m)\n",
    "                A_til = np.vstack((np.hstack((A, -I)), np.hstack((-A, -I))))\n",
    "            elif norm == 'linf':\n",
    "                x = cp.Variable(n+1)\n",
    "                c_til = np.zeros((n + 1,))\n",
    "                c_til[-1:] = 1\n",
    "                b_til = np.hstack((b, -b))\n",
    "                A_til = np.vstack((np.hstack((A, -np.ones((m, 1)))), np.hstack((-A, -np.ones((m, 1))))))\n",
    "            else:\n",
    "                print('Error: incorrect norm')\n",
    "                return\n",
    "\n",
    "            start_time = timeit.default_timer()\n",
    "\n",
    "\n",
    "            prob = cp.Problem(cp.Minimize(c_til.T@x),\n",
    "                             [A_til @ x <= b_til])\n",
    "            prob.solve(solver=cp.SCIPY, scipy_options={\"method\": method})\n",
    "\n",
    "            time = timeit.default_timer() - start_time\n",
    "\n",
    "            lam = cp.Variable(2*m)\n",
    "            dual_prob = cp.Problem(cp.Maximize(-b_til.T@lam),\n",
    "                             [A_til.T @ lam == -c_til,  lam >= np.zeros((2*m,))])\n",
    "            dual_prob.solve(solver=cp.SCIPY, scipy_options={\"method\": method})\n",
    "\n",
    "            opt[i] = prob.value\n",
    "            low_bound[i] = dual_prob.value\n",
    "            residuals[i] = A @ x.value[:n] - b\n",
    "            times[i] += time / iterations\n",
    "\n",
    "    return opt, times, residuals, low_bound"
   ],
   "metadata": {
    "collapsed": false,
    "ExecuteTime": {
     "end_time": "2023-12-05T17:47:34.574671800Z",
     "start_time": "2023-12-05T17:47:34.540164500Z"
    }
   }
  },
  {
   "cell_type": "markdown",
   "source": [
    "## $l_1$ norm"
   ],
   "metadata": {
    "collapsed": false
   }
  },
  {
   "cell_type": "markdown",
   "source": [
    "### i) Simplex Method"
   ],
   "metadata": {
    "collapsed": false
   }
  },
  {
   "cell_type": "code",
   "execution_count": 29,
   "outputs": [],
   "source": [
    "l1_smp_opt, l1_smp_times, l1_smp_residuals, l1_smp_low = lp(Ab, 'l1', 'highs-ds', 1)"
   ],
   "metadata": {
    "collapsed": false,
    "ExecuteTime": {
     "end_time": "2023-12-05T17:56:55.520287300Z",
     "start_time": "2023-12-05T17:47:34.574171100Z"
    }
   }
  },
  {
   "cell_type": "code",
   "execution_count": 30,
   "outputs": [
    {
     "name": "stdout",
     "output_type": "stream",
     "text": [
      "[  8.64075088  40.47091323 132.38945303 265.56673929 577.27186875]\n",
      "[  8.64075088  40.47091323 132.38945303 265.56673929 577.27186875]\n",
      "[1.21643000e-02 5.92693000e-02 2.29480830e+00 3.35481521e+01\n",
      " 3.80886411e+02]\n"
     ]
    }
   ],
   "source": [
    "print(l1_smp_opt)\n",
    "print(l1_smp_low)\n",
    "print(l1_smp_times)"
   ],
   "metadata": {
    "collapsed": false,
    "ExecuteTime": {
     "end_time": "2023-12-05T17:56:55.534789700Z",
     "start_time": "2023-12-05T17:56:55.522787500Z"
    }
   }
  },
  {
   "cell_type": "code",
   "execution_count": 31,
   "outputs": [
    {
     "data": {
      "text/plain": "<Figure size 1400x827 with 1 Axes>",
      "image/png": "[encoded data removed]"
     },
     "metadata": {},
     "output_type": "display_data"
    }
   ],
   "source": [
    "plt.hist(l1_smp_residuals[-2], bins=40, density=1)\n",
    "plt.show()"
   ],
   "metadata": {
    "collapsed": false,
    "ExecuteTime": {
     "end_time": "2023-12-05T17:56:55.890852200Z",
     "start_time": "2023-12-05T17:56:55.537790300Z"
    }
   }
  },
  {
   "cell_type": "markdown",
   "source": [
    "### ii) Interior Point LP"
   ],
   "metadata": {
    "collapsed": false
   }
  },
  {
   "cell_type": "code",
   "execution_count": 32,
   "outputs": [],
   "source": [
    "l1_ipm_opt, l1_ipm_times, l1_ipm_residuals, l1_ipm_low = lp(Ab, 'l1', 'highs-ipm', 1)"
   ],
   "metadata": {
    "collapsed": false,
    "ExecuteTime": {
     "end_time": "2023-12-05T18:00:28.656377500Z",
     "start_time": "2023-12-05T17:56:55.893352100Z"
    }
   }
  },
  {
   "cell_type": "code",
   "execution_count": 33,
   "outputs": [
    {
     "name": "stdout",
     "output_type": "stream",
     "text": [
      "[  8.64075088  40.47091323 132.38945303 265.56673929 577.27186875]\n",
      "[  8.64075088  40.47091323 132.38945303 265.56673929 577.27186875]\n",
      "[1.33281000e-02 8.74930000e-02 2.02207560e+00 1.64946324e+01\n",
      " 1.27616528e+02]\n"
     ]
    }
   ],
   "source": [
    "print(l1_ipm_opt)\n",
    "print(l1_ipm_low)\n",
    "print(l1_ipm_times)"
   ],
   "metadata": {
    "collapsed": false,
    "ExecuteTime": {
     "end_time": "2023-12-05T18:00:28.670879900Z",
     "start_time": "2023-12-05T18:00:28.658878800Z"
    }
   }
  },
  {
   "cell_type": "markdown",
   "source": [
    "## $l_\\infty$ norm"
   ],
   "metadata": {
    "collapsed": false
   }
  },
  {
   "cell_type": "markdown",
   "source": [
    "### i) Simplex Method"
   ],
   "metadata": {
    "collapsed": false
   }
  },
  {
   "cell_type": "code",
   "execution_count": 34,
   "outputs": [],
   "source": [
    "linf_smp_opt, linf_smp_times, linf_smp_residuals, linf_smp_low = lp(Ab, 'linf', 'highs-ds', 1)"
   ],
   "metadata": {
    "collapsed": false,
    "ExecuteTime": {
     "end_time": "2023-12-05T18:12:55.373821500Z",
     "start_time": "2023-12-05T18:00:28.674380200Z"
    }
   }
  },
  {
   "cell_type": "code",
   "execution_count": 35,
   "outputs": [
    {
     "name": "stdout",
     "output_type": "stream",
     "text": [
      "[0.53190349 0.65544332 0.5786504  0.58076415 0.6024764 ]\n",
      "[0.53190349 0.65544332 0.5786504  0.58076415 0.6024764 ]\n",
      "[1.14253000e-02 3.83034000e-02 1.44684650e+00 1.80684703e+01\n",
      " 5.32935619e+02]\n"
     ]
    }
   ],
   "source": [
    "print(linf_smp_opt)\n",
    "print(linf_smp_low)\n",
    "print(linf_smp_times)"
   ],
   "metadata": {
    "collapsed": false,
    "ExecuteTime": {
     "end_time": "2023-12-05T18:12:55.389324300Z",
     "start_time": "2023-12-05T18:12:55.376822100Z"
    }
   }
  },
  {
   "cell_type": "markdown",
   "source": [
    "### ii) Interior Point LP"
   ],
   "metadata": {
    "collapsed": false
   }
  },
  {
   "cell_type": "code",
   "execution_count": 36,
   "outputs": [],
   "source": [
    "linf_ipm_opt, linf_ipm_times, linf_ipm_residuals, linf_ipm_low = lp(Ab, 'linf', 'highs-ipm', 1)"
   ],
   "metadata": {
    "collapsed": false,
    "ExecuteTime": {
     "end_time": "2023-12-05T18:15:40.242511800Z",
     "start_time": "2023-12-05T18:12:55.389324300Z"
    }
   }
  },
  {
   "cell_type": "code",
   "execution_count": 37,
   "outputs": [
    {
     "name": "stdout",
     "output_type": "stream",
     "text": [
      "[0.53190349 0.65544332 0.5786504  0.58076415 0.6024764 ]\n",
      "[0.53190349 0.65544332 0.5786504  0.58076415 0.6024764 ]\n",
      "[9.36550000e-03 4.87090000e-02 9.76485900e-01 7.68274430e+00\n",
      " 7.30391534e+01]\n"
     ]
    }
   ],
   "source": [
    "print(linf_ipm_opt)\n",
    "print(linf_ipm_low)\n",
    "print(linf_ipm_times)"
   ],
   "metadata": {
    "collapsed": false,
    "ExecuteTime": {
     "end_time": "2023-12-05T18:15:40.258015400Z",
     "start_time": "2023-12-05T18:15:40.243512300Z"
    }
   }
  },
  {
   "cell_type": "code",
   "execution_count": 43,
   "outputs": [
    {
     "data": {
      "text/plain": "<Figure size 1400x827 with 1 Axes>",
      "image/png": "[encoded data removed]"
     },
     "metadata": {},
     "output_type": "display_data"
    }
   ],
   "source": [
    "plt.hist(linf_ipm_residuals[-1], bins=40, density=1)\n",
    "plt.show()"
   ],
   "metadata": {
    "collapsed": false,
    "ExecuteTime": {
     "end_time": "2023-12-05T18:16:23.317509900Z",
     "start_time": "2023-12-05T18:16:22.553374800Z"
    }
   }
  },
  {
   "cell_type": "markdown",
   "source": [
    "## $l_2$ norm"
   ],
   "metadata": {
    "collapsed": false
   }
  },
  {
   "cell_type": "code",
   "execution_count": 39,
   "outputs": [],
   "source": [
    "l2_lp_times = [0] * 5\n",
    "l2_lp_opt = [None] * 5\n",
    "l2_lp_residuals = [None] * 5\n",
    "iterations = 10\n",
    "for n in range(iterations):\n",
    "    for i, (A,b) in enumerate(Ab):\n",
    "\n",
    "        start_time = timeit.default_timer()\n",
    "        x = inv(A.T @ A) @ A.T @ b\n",
    "        time = timeit.default_timer() - start_time\n",
    "\n",
    "        l2_lp_residuals[i] = A @ x - b\n",
    "\n",
    "        l2_lp_opt[i] = np.sqrt(l2_lp_residuals[i].T @ l2_lp_residuals[i])\n",
    "        l2_lp_times[i] += time / iterations"
   ],
   "metadata": {
    "collapsed": false,
    "ExecuteTime": {
     "end_time": "2023-12-05T18:15:46.498109200Z",
     "start_time": "2023-12-05T18:15:40.645082200Z"
    }
   }
  },
  {
   "cell_type": "code",
   "execution_count": 40,
   "outputs": [
    {
     "name": "stdout",
     "output_type": "stream",
     "text": [
      "[2.118139329453281, 5.189877332419184, 8.786675092974793, 12.460295288066254, 18.64969450788458]\n",
      "[0.00015452999996341533, 0.019559719999597294, 0.11038673000002748, 0.139822070000082, 0.30730693000004977]\n"
     ]
    }
   ],
   "source": [
    "print(l2_lp_opt)\n",
    "print(l2_lp_times)"
   ],
   "metadata": {
    "collapsed": false,
    "ExecuteTime": {
     "end_time": "2023-12-05T18:15:46.530107400Z",
     "start_time": "2023-12-05T18:15:46.448092100Z"
    }
   }
  },
  {
   "cell_type": "code",
   "execution_count": 1,
   "outputs": [
    {
     "ename": "NameError",
     "evalue": "name 'plt' is not defined",
     "output_type": "error",
     "traceback": [
      "\u001B[1;31m---------------------------------------------------------------------------\u001B[0m",
      "\u001B[1;31mNameError\u001B[0m                                 Traceback (most recent call last)",
      "Cell \u001B[1;32mIn[1], line 1\u001B[0m\n\u001B[1;32m----> 1\u001B[0m \u001B[43mplt\u001B[49m\u001B[38;5;241m.\u001B[39mhist(l2_lp_residuals[\u001B[38;5;241m-\u001B[39m\u001B[38;5;241m1\u001B[39m][:], bins\u001B[38;5;241m=\u001B[39m\u001B[38;5;241m40\u001B[39m, density\u001B[38;5;241m=\u001B[39m\u001B[38;5;241m1\u001B[39m)\n\u001B[0;32m      2\u001B[0m plt\u001B[38;5;241m.\u001B[39mxlabel(\u001B[38;5;124m'\u001B[39m\u001B[38;5;124mResidual\u001B[39m\u001B[38;5;124m'\u001B[39m)\n\u001B[0;32m      3\u001B[0m plt\u001B[38;5;241m.\u001B[39mshow()\n",
      "\u001B[1;31mNameError\u001B[0m: name 'plt' is not defined"
     ]
    }
   ],
   "source": [
    "plt.hist(l2_lp_residuals[-1][:], bins=40, density=1)\n",
    "plt.xlabel('Residual')\n",
    "plt.savefig('Figures/l2residual.png', format=\"png\", dpi=800, bbox_inches=\"tight\")\n",
    "plt.show()\n",
    "plt.close()"
   ],
   "metadata": {
    "collapsed": false,
    "ExecuteTime": {
     "end_time": "2023-12-06T22:18:10.486223Z",
     "start_time": "2023-12-06T22:18:09.089474900Z"
    }
   }
  },
  {
   "cell_type": "code",
   "execution_count": null,
   "outputs": [],
   "source": [],
   "metadata": {
    "collapsed": false
   }
  }
 ],
 "metadata": {
  "kernelspec": {
   "display_name": "Python 3",
   "language": "python",
   "name": "python3"
  },
  "language_info": {
   "codemirror_mode": {
    "name": "ipython",
    "version": 2
   },
   "file_extension": ".py",
   "mimetype": "text/x-python",
   "name": "python",
   "nbconvert_exporter": "python",
   "pygments_lexer": "ipython2",
   "version": "2.7.6"
  }
 },
 "nbformat": 4,
 "nbformat_minor": 0
}
