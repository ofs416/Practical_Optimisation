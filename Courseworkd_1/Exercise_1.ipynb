{
 "cells": [
  {
   "cell_type": "code",
   "execution_count": 269,
   "metadata": {
    "collapsed": true,
    "ExecuteTime": {
     "end_time": "2023-12-04T18:12:17.195649Z",
     "start_time": "2023-12-04T18:12:16.808581500Z"
    }
   },
   "outputs": [],
   "source": [
    "import numpy as np\n",
    "from numpy.linalg import inv\n",
    "from scipy.optimize import linprog\n",
    "import timeit\n",
    "\n",
    "import matplotlib.pyplot as plt\n",
    "import seaborn as sns"
   ]
  },
  {
   "cell_type": "code",
   "execution_count": 270,
   "outputs": [],
   "source": [
    "sns.set(rc={'figure.figsize':(14,8.27)}, font_scale=2)\n",
    "sns.set_palette('colorblind')"
   ],
   "metadata": {
    "collapsed": false,
    "ExecuteTime": {
     "end_time": "2023-12-04T18:12:17.196149100Z",
     "start_time": "2023-12-04T18:12:16.829085Z"
    }
   }
  },
  {
   "cell_type": "markdown",
   "source": [
    "# A)"
   ],
   "metadata": {
    "collapsed": false
   }
  },
  {
   "cell_type": "markdown",
   "source": [
    "$l_1$: $||$**x**$||_1 = |x_1| + ... + |x_m|$\n",
    "$l_2$: $||$**x**$||_2 = \\sqrt{|x_1|^2 + ... + |x_m|^2}$\n",
    "$l_\\infty$: $||$**x**$||_\\infty = max(|x_1| , ... , |x_m|)$"
   ],
   "metadata": {
    "collapsed": false
   }
  },
  {
   "cell_type": "markdown",
   "source": [
    "$min_x$$||Ax-b||_1 = \\sum_{i=1}^m |  a_{i} x - b_i |$\n",
    "$min_x$$||Ax-b||_2 = \\sqrt{ \\sum_{i=1}^m ( a_{i} x - b_i ) ^2 }$\n",
    "$min_x$$||Ax-b||_ \\infty = min_x (max_i|a_i^Tx - b_i|)$"
   ],
   "metadata": {
    "collapsed": false
   }
  },
  {
   "cell_type": "markdown",
   "source": [
    "$||Ax-b||_2^2 =  \\sum_i^m \\left( \\sum_j^n a_{ij} x_j - b_i \\right) ^2$\n",
    "produces minimum when gradient is zero w.r.t. $x$.\n",
    "\n",
    "$\\frac{\\partial f}{\\partial x_p} = 2 \\sum_i^m  a_{ip} \\sum_j^n ( a_{ij} x_j - b_i ) = 0$  <br/>\n",
    "$ 2 \\sum_i^m  a_{ip} \\sum_j^n a_{ij} x_j  = 2 \\sum_i^m a_{ip} \\sum_j^n  b_i $\n",
    "\n",
    "in matrix form:\n",
    "<br/>\n",
    "$  A^T A x =  A^T b$\n",
    "$  \\rightarrow  x =  (A^T A)^{-1} A^T b$ <br/>\n",
    "\n",
    "Convex as quadratics only have one minimum"
   ],
   "metadata": {
    "collapsed": false
   }
  },
  {
   "cell_type": "markdown",
   "source": [
    "# B)"
   ],
   "metadata": {
    "collapsed": false
   }
  },
  {
   "cell_type": "markdown",
   "source": [
    "$min_x$$||Ax-b||_ \\infty = min_x (max_i|a_i^Tx - b_i|)$\n",
    "$min_x$$||Ax-b||_ \\infty = min_x (min_t( -t \\leq a_i^Tx - b_i \\leq t))$\n",
    "$min_x (min_t( -t \\leq a_i^Tx - b_i \\leq t)) = min_{x,t} t$\n",
    "with $-t \\leq a_i^Tx - b_i \\leq t$ for $i=1,...,m$\n",
    "This is equivalent to $min_x \\tilde{c}^T \\tilde{x}$ with constraint $\\tilde{A} \\tilde{x} \\leq \\tilde{b}$\n",
    "Where $$ \\tilde{x} =\n",
    "\\left(\\begin{array}{cc}\n",
    "x \\\\\n",
    "t\n",
    "\\end{array}\\right)\n",
    "$$\n",
    "$$ \\tilde{c} =\n",
    "\\left(\\begin{array}{cc}\n",
    "0 \\\\\n",
    "1\n",
    "\\end{array}\\right)\n",
    "$$\n",
    "$$ \\tilde{A} =\n",
    "\\left(\\begin{array}{cc}\n",
    "A & -1\\\\\n",
    "-A & -1\n",
    "\\end{array}\\right)\n",
    "$$\n",
    "$$ \\tilde{b} =\n",
    "\\left(\\begin{array}{cc}\n",
    "b\\\\\n",
    "-b\n",
    "\\end{array}\\right)\n",
    "$$"
   ],
   "metadata": {
    "collapsed": false
   }
  },
  {
   "cell_type": "markdown",
   "source": [
    "$min_x$$||Ax-b||_1 = \\sum_{i=1}^m |  a_{i} x - b_i |$\n",
    "$min_x$$||Ax-b||_1 = min_x \\sum_{i=1}^m min_{t_i}( -t \\leq a_i^Tx - b_i \\leq t)$\n",
    "which is $min_{x,t_i} \\sum_{i=1}^m t_1$\n",
    "with $-t_i \\leq a_i^Tx - b_i \\leq t_i$ for $i=1,...,m$\n",
    "This is equivalent to $min_x \\tilde{c}^T \\tilde{x}$ with constraint $\\tilde{A} \\tilde{x} \\leq \\tilde{b}$\n",
    "Where $$ \\tilde{x} =\n",
    "\\left(\\begin{array}{cc}\n",
    "x \\\\\n",
    "t\n",
    "\\end{array}\\right)\n",
    "$$\n",
    "$$ \\tilde{c} =\n",
    "\\left(\\begin{array}{cc}\n",
    "0 \\\\\n",
    "\\textbf{1}\n",
    "\\end{array}\\right)\n",
    "$$\n",
    "$$ \\tilde{A} =\n",
    "\\left(\\begin{array}{cc}\n",
    "A & -\\textbf{I}\\\\\n",
    "-A & -\\textbf{I}\n",
    "\\end{array}\\right)\n",
    "$$\n",
    "$$ \\tilde{b} =\n",
    "\\left(\\begin{array}{cc}\n",
    "b\\\\\n",
    "-b\n",
    "\\end{array}\\right)\n",
    "$$"
   ],
   "metadata": {
    "collapsed": false
   }
  },
  {
   "cell_type": "markdown",
   "source": [
    "# C)"
   ],
   "metadata": {
    "collapsed": false
   }
  },
  {
   "cell_type": "markdown",
   "source": [
    "$min_x \\tilde{c}^T \\tilde{x}$ subject to $\\tilde{A} \\tilde{x} \\leq \\tilde{b}$\n",
    "\n",
    "Lagragian:\n",
    "$L(x, \\lambda) = \\tilde{c}^T \\tilde{x} +  \\lambda^T (\\tilde{A} \\tilde{x} - \\tilde{b})$\n",
    "$= - \\tilde{b}^T \\lambda + (\\tilde{A}^T \\lambda + \\tilde{c})^T \\tilde{x}$\n",
    "\n",
    "Dual Cost:\n",
    "$min_x L(x, \\lambda) = - \\tilde{b}^T \\lambda$ if $\\tilde{A}^T \\lambda + \\tilde{c} = 0$\n",
    "or $- \\infty$ otherwise\n",
    "\n",
    "Dual LP problem:\n",
    "$max_{\\lambda}( - \\tilde{b}^T \\lambda)$ subject to $\\tilde{A}^T \\lambda + \\tilde{c} = 0$ and $\\lambda \\geq 0$"
   ],
   "metadata": {
    "collapsed": false
   }
  },
  {
   "cell_type": "markdown",
   "source": [
    "# D)/E)"
   ],
   "metadata": {
    "collapsed": false
   }
  },
  {
   "cell_type": "code",
   "execution_count": 271,
   "outputs": [],
   "source": [
    "Ab = []\n",
    "for i in range(5):\n",
    "    A = np.genfromtxt('2023-data/A' + str(i) + '.csv', delimiter=\",\")\n",
    "    b = np.genfromtxt('2023-data/b' + str(i) + '.csv', delimiter=\",\")\n",
    "    Ab.append((A, b))"
   ],
   "metadata": {
    "collapsed": false,
    "ExecuteTime": {
     "end_time": "2023-12-04T18:12:20.128160900Z",
     "start_time": "2023-12-04T18:12:16.891096500Z"
    }
   }
  },
  {
   "cell_type": "code",
   "execution_count": 272,
   "outputs": [],
   "source": [
    "def lp(data, norm, method, iterations):\n",
    "    times = np.zeros(5)\n",
    "    residuals = [None] * 5\n",
    "    opt = np.zeros(5)\n",
    "    low_bound = np.zeros(5)\n",
    "    for iter in range(iterations):\n",
    "        for i, (A,b) in enumerate(data):\n",
    "\n",
    "            m, n = A.shape\n",
    "\n",
    "            if norm != 'l1' and norm != 'linf':\n",
    "                print('Error: incorrect norm')\n",
    "                return\n",
    "            elif norm == 'l1':\n",
    "                c_til = np.zeros((n + m, 1))\n",
    "                c_til[-m:] = 1\n",
    "                b_til = np.hstack((b, -b))\n",
    "                I = np.eye(m)\n",
    "                A_til = np.vstack((np.hstack((A, -I)), np.hstack((-A, -I))))\n",
    "            else:\n",
    "                c_til = np.zeros((n + 1, 1))\n",
    "                c_til[-1:] = 1\n",
    "                b_til = np.hstack((b, -b))\n",
    "                I = np.eye(m)\n",
    "                A_til = np.vstack((np.hstack((A, -np.ones((m, 1)))), np.hstack((-A, -np.ones((m, 1))))))\n",
    "\n",
    "            start_time = timeit.default_timer()\n",
    "\n",
    "            result = linprog(c_til, A_ub=A_til, b_ub=b_til, method=method)\n",
    "\n",
    "            time = timeit.default_timer() - start_time\n",
    "\n",
    "            dual_result = linprog(-b_til, A_eq=A_til.T, b_eq=-c_til, bounds=(0, None) ,method=method)\n",
    "\n",
    "            low_bound[i] = dual_result['fun']\n",
    "\n",
    "            residuals[i] = A @ result['x'][:n] - b\n",
    "            opt[i] = result['fun']\n",
    "            times[i] += time / iterations\n",
    "\n",
    "    return opt, times, residuals, low_bound"
   ],
   "metadata": {
    "collapsed": false,
    "ExecuteTime": {
     "end_time": "2023-12-04T18:12:20.143165600Z",
     "start_time": "2023-12-04T18:12:20.129161900Z"
    }
   }
  },
  {
   "cell_type": "markdown",
   "source": [
    "## $l_1$ norm"
   ],
   "metadata": {
    "collapsed": false
   }
  },
  {
   "cell_type": "markdown",
   "source": [
    "### i) Simplex Method"
   ],
   "metadata": {
    "collapsed": false
   }
  },
  {
   "cell_type": "code",
   "execution_count": 273,
   "outputs": [],
   "source": [
    "l1_smp_opt, l1_smp_times, l1_smp_residuals, l1_smp_low = lp(Ab, 'l1', 'highs', 1)"
   ],
   "metadata": {
    "collapsed": false,
    "ExecuteTime": {
     "end_time": "2023-12-04T18:18:46.583627900Z",
     "start_time": "2023-12-04T18:12:20.144163700Z"
    }
   }
  },
  {
   "cell_type": "code",
   "execution_count": 274,
   "outputs": [
    {
     "name": "stdout",
     "output_type": "stream",
     "text": [
      "[ 13.96450782  56.34628742 176.28757375 367.82788344 807.641611  ]\n",
      "[  -8.64075088  -40.47091323 -132.38945303 -265.56673929 -577.27186875]\n",
      "[2.40330000e-03 2.51556000e-02 1.91360270e+00 2.11643985e+01\n",
      " 2.15909205e+02]\n"
     ]
    }
   ],
   "source": [
    "print(l1_smp_opt)\n",
    "print(l1_smp_low)\n",
    "print(l1_smp_times)"
   ],
   "metadata": {
    "collapsed": false,
    "ExecuteTime": {
     "end_time": "2023-12-04T18:18:46.598630800Z",
     "start_time": "2023-12-04T18:18:46.584627700Z"
    }
   }
  },
  {
   "cell_type": "code",
   "execution_count": 275,
   "outputs": [
    {
     "data": {
      "text/plain": "(array([0.00493377, 0.00493377, 0.00986755, 0.00493377, 0.04933775,\n        0.02960265, 0.0197351 , 0.07894039, 0.08880794, 0.12334437,\n        0.13814569, 0.19735099, 0.26642383, 0.28615893, 0.36016555,\n        0.350298  , 0.37496688, 0.45390727, 0.4292384 , 0.47364237,\n        2.83692045, 0.42430462, 0.36016555, 0.41443707, 0.41443707,\n        0.34536423, 0.34043045, 0.25162251, 0.29109271, 0.17761589,\n        0.17761589, 0.10854304, 0.0592053 , 0.0592053 , 0.0394702 ,\n        0.03453642, 0.00493377, 0.00493377, 0.00493377, 0.00986755]),\n array([-2.04032561, -1.94135854, -1.84239146, -1.74342439, -1.64445731,\n        -1.54549024, -1.44652316, -1.34755609, -1.24858901, -1.14962193,\n        -1.05065486, -0.95168778, -0.85272071, -0.75375363, -0.65478656,\n        -0.55581948, -0.45685241, -0.35788533, -0.25891826, -0.15995118,\n        -0.06098411,  0.03798297,  0.13695004,  0.23591712,  0.33488419,\n         0.43385127,  0.53281834,  0.63178542,  0.73075249,  0.82971957,\n         0.92868664,  1.02765372,  1.12662079,  1.22558787,  1.32455494,\n         1.42352202,  1.52248909,  1.62145617,  1.72042324,  1.81939032,\n         1.91835739]),\n <BarContainer object of 40 artists>)"
     },
     "execution_count": 275,
     "metadata": {},
     "output_type": "execute_result"
    },
    {
     "data": {
      "text/plain": "<Figure size 1400x827 with 1 Axes>",
      "image/png": "[encoded data removed]"
     },
     "metadata": {},
     "output_type": "display_data"
    }
   ],
   "source": [
    "plt.hist(l1_smp_residuals[-1], bins=40, density=1)"
   ],
   "metadata": {
    "collapsed": false,
    "ExecuteTime": {
     "end_time": "2023-12-04T18:18:46.986197100Z",
     "start_time": "2023-12-04T18:18:46.600631Z"
    }
   }
  },
  {
   "cell_type": "markdown",
   "source": [
    "### ii) Interior Point LP"
   ],
   "metadata": {
    "collapsed": false
   }
  },
  {
   "cell_type": "code",
   "execution_count": 276,
   "outputs": [],
   "source": [
    "l1_ipm_opt, l1_ipm_times, l1_ipm_residuals, l1_ipm_low = lp(Ab, 'l1', 'highs-ipm', 1)"
   ],
   "metadata": {
    "collapsed": false,
    "ExecuteTime": {
     "end_time": "2023-12-04T18:20:36.168759100Z",
     "start_time": "2023-12-04T18:18:46.987773400Z"
    }
   }
  },
  {
   "cell_type": "code",
   "execution_count": 277,
   "outputs": [
    {
     "name": "stdout",
     "output_type": "stream",
     "text": [
      "[ 13.96450782  56.34628742 176.28757375 367.82788344 807.641611  ]\n",
      "[  -8.64075088  -40.47091323 -132.38945303 -265.56673929 -577.27186875]\n",
      "[5.64830000e-03 3.11002000e-02 1.08617620e+00 6.07372150e+00\n",
      " 3.94040816e+01]\n"
     ]
    }
   ],
   "source": [
    "print(l1_ipm_opt)\n",
    "print(l1_ipm_low)\n",
    "print(l1_ipm_times)"
   ],
   "metadata": {
    "collapsed": false,
    "ExecuteTime": {
     "end_time": "2023-12-04T18:20:36.183260900Z",
     "start_time": "2023-12-04T18:20:36.170258500Z"
    }
   }
  },
  {
   "cell_type": "markdown",
   "source": [
    "## $l_\\infty$ norm"
   ],
   "metadata": {
    "collapsed": false
   }
  },
  {
   "cell_type": "markdown",
   "source": [
    "### i) Simplex Method"
   ],
   "metadata": {
    "collapsed": false
   }
  },
  {
   "cell_type": "code",
   "execution_count": 278,
   "outputs": [],
   "source": [
    "linf_smp_opt, linf_smp_times, linf_smp_residuals, linf_smp_low = lp(Ab, 'linf', 'highs', 1)"
   ],
   "metadata": {
    "collapsed": false,
    "ExecuteTime": {
     "end_time": "2023-12-04T18:25:26.531449800Z",
     "start_time": "2023-12-04T18:20:36.184261Z"
    }
   }
  },
  {
   "cell_type": "code",
   "execution_count": 279,
   "outputs": [
    {
     "name": "stdout",
     "output_type": "stream",
     "text": [
      "[0.79580156 0.84143764 0.73656491 0.78238983 0.81606366]\n",
      "[-0.53190349 -0.65544332 -0.5786504  -0.58076415 -0.6024764 ]\n",
      "[2.26860000e-03 1.22230000e-02 8.69218700e-01 8.23178490e+00\n",
      " 1.03728951e+02]\n"
     ]
    }
   ],
   "source": [
    "print(linf_smp_opt)\n",
    "print(linf_smp_low)\n",
    "print(linf_smp_times)"
   ],
   "metadata": {
    "collapsed": false,
    "ExecuteTime": {
     "end_time": "2023-12-04T18:25:26.546451400Z",
     "start_time": "2023-12-04T18:25:26.531948500Z"
    }
   }
  },
  {
   "cell_type": "markdown",
   "source": [
    "### ii) Interior Point LP"
   ],
   "metadata": {
    "collapsed": false
   }
  },
  {
   "cell_type": "code",
   "execution_count": 280,
   "outputs": [],
   "source": [
    "linf_ipm_opt, linf_ipm_times, linf_ipm_residuals, linf_ipm_low = lp(Ab, 'linf', 'highs-ipm', 1)"
   ],
   "metadata": {
    "collapsed": false,
    "ExecuteTime": {
     "end_time": "2023-12-04T18:26:54.331787800Z",
     "start_time": "2023-12-04T18:25:26.548452Z"
    }
   }
  },
  {
   "cell_type": "code",
   "execution_count": 281,
   "outputs": [
    {
     "name": "stdout",
     "output_type": "stream",
     "text": [
      "[0.79580156 0.84143764 0.73656491 0.78238983 0.81606366]\n",
      "[-0.53190349 -0.65544332 -0.5786504  -0.58076415 -0.6024764 ]\n",
      "[5.69920000e-03 2.23744000e-02 5.48602100e-01 2.99498580e+00\n",
      " 1.66693153e+01]\n"
     ]
    }
   ],
   "source": [
    "print(linf_ipm_opt)\n",
    "print(linf_ipm_low)\n",
    "print(linf_ipm_times)"
   ],
   "metadata": {
    "collapsed": false,
    "ExecuteTime": {
     "end_time": "2023-12-04T18:26:54.338789200Z",
     "start_time": "2023-12-04T18:26:54.324286800Z"
    }
   }
  },
  {
   "cell_type": "code",
   "execution_count": 282,
   "outputs": [
    {
     "data": {
      "text/plain": "(array([3.41052207, 0.39490256, 0.46670302, 0.56243697, 0.45473628,\n        0.4068693 , 0.52653674, 0.44276953, 0.49063651, 0.56243697,\n        0.41883604, 0.45473628, 0.49063651, 0.55047023, 0.58637046,\n        0.47866976, 0.53850348, 0.38293581, 0.46670302, 0.47866976,\n        0.44276953, 0.55047023, 0.52653674, 0.51457   , 0.55047023,\n        0.45473628, 0.49063651, 0.50260325, 0.61030395, 0.50260325,\n        0.44276953, 0.39490256, 0.50260325, 0.49063651, 0.35900232,\n        0.49063651, 0.2991686 , 0.44276953, 0.26326837, 3.11135347]),\n array([-8.16063661e-01, -7.75260478e-01, -7.34457295e-01, -6.93654112e-01,\n        -6.52850929e-01, -6.12047746e-01, -5.71244563e-01, -5.30441380e-01,\n        -4.89638197e-01, -4.48835014e-01, -4.08031831e-01, -3.67228647e-01,\n        -3.26425464e-01, -2.85622281e-01, -2.44819098e-01, -2.04015915e-01,\n        -1.63212732e-01, -1.22409549e-01, -8.16063661e-02, -4.08031831e-02,\n         4.10782519e-14,  4.08031831e-02,  8.16063661e-02,  1.22409549e-01,\n         1.63212732e-01,  2.04015915e-01,  2.44819098e-01,  2.85622281e-01,\n         3.26425464e-01,  3.67228647e-01,  4.08031831e-01,  4.48835014e-01,\n         4.89638197e-01,  5.30441380e-01,  5.71244563e-01,  6.12047746e-01,\n         6.52850929e-01,  6.93654112e-01,  7.34457295e-01,  7.75260478e-01,\n         8.16063661e-01]),\n <BarContainer object of 40 artists>)"
     },
     "execution_count": 282,
     "metadata": {},
     "output_type": "execute_result"
    },
    {
     "data": {
      "text/plain": "<Figure size 1400x827 with 1 Axes>",
      "image/png": "[encoded data removed]"
     },
     "metadata": {},
     "output_type": "display_data"
    }
   ],
   "source": [
    "plt.hist(linf_ipm_residuals[-1], bins=40, density=1)"
   ],
   "metadata": {
    "collapsed": false,
    "ExecuteTime": {
     "end_time": "2023-12-04T18:26:54.771365500Z",
     "start_time": "2023-12-04T18:26:54.341789900Z"
    }
   }
  },
  {
   "cell_type": "markdown",
   "source": [
    "## $l_2$ norm"
   ],
   "metadata": {
    "collapsed": false
   }
  },
  {
   "cell_type": "code",
   "execution_count": 283,
   "outputs": [],
   "source": [
    "l2_lp_times = [0] * 5\n",
    "l2_lp_opt = [None] * 5\n",
    "l2_lp_residuals = [None] * 5\n",
    "iterations = 10\n",
    "for n in range(iterations):\n",
    "    for i, (A,b) in enumerate(Ab):\n",
    "\n",
    "        start_time = timeit.default_timer()\n",
    "        x = inv(A.T @ A) @ A.T @ b\n",
    "        time = timeit.default_timer() - start_time\n",
    "\n",
    "        l2_lp_residuals[i] = A @ x - b\n",
    "\n",
    "        l2_lp_opt[i] = np.sqrt(l2_lp_residuals[i].T @ l2_lp_residuals[i])\n",
    "        l2_lp_times[i] += time / iterations"
   ],
   "metadata": {
    "collapsed": false,
    "ExecuteTime": {
     "end_time": "2023-12-04T18:27:01.621560700Z",
     "start_time": "2023-12-04T18:26:54.774865700Z"
    }
   }
  },
  {
   "cell_type": "code",
   "execution_count": 284,
   "outputs": [
    {
     "name": "stdout",
     "output_type": "stream",
     "text": [
      "[2.118139329453281, 5.189877332419184, 8.786675092974793, 12.460295288066254, 18.64969450788458]\n",
      "[0.00016358000029867984, 0.022768199999336502, 0.1252445900001476, 0.2049274699998932, 0.32933183999994076]\n"
     ]
    }
   ],
   "source": [
    "print(l2_lp_opt)\n",
    "print(l2_lp_times)"
   ],
   "metadata": {
    "collapsed": false,
    "ExecuteTime": {
     "end_time": "2023-12-04T18:27:01.637063Z",
     "start_time": "2023-12-04T18:27:01.625561500Z"
    }
   }
  },
  {
   "cell_type": "code",
   "execution_count": 285,
   "outputs": [
    {
     "data": {
      "text/plain": "(array([0.01571181, 0.        , 0.03142363, 0.03142363, 0.04713544,\n        0.1099827 , 0.08641498, 0.11783861, 0.18854177, 0.36137173,\n        0.36137173, 0.43993081, 0.45564262, 0.73845528, 0.70703165,\n        0.69917575, 0.90342934, 0.7541671 , 0.91128524, 0.90342934,\n        0.76202301, 0.9741325 , 0.73845528, 0.91914115, 0.79344663,\n        0.73845528, 0.73059938, 0.47135444, 0.44778671, 0.38493946,\n        0.51848988, 0.2121095 , 0.14140633, 0.12569452, 0.1099827 ,\n        0.06284726, 0.02356772, 0.03142363, 0.02356772, 0.01571181]),\n array([-1.27378192, -1.21162726, -1.14947259, -1.08731793, -1.02516327,\n        -0.96300861, -0.90085395, -0.83869929, -0.77654463, -0.71438997,\n        -0.65223531, -0.59008065, -0.52792599, -0.46577133, -0.40361667,\n        -0.34146201, -0.27930735, -0.21715269, -0.15499803, -0.09284337,\n        -0.0306887 ,  0.03146596,  0.09362062,  0.15577528,  0.21792994,\n         0.2800846 ,  0.34223926,  0.40439392,  0.46654858,  0.52870324,\n         0.5908579 ,  0.65301256,  0.71516722,  0.77732188,  0.83947654,\n         0.9016312 ,  0.96378586,  1.02594052,  1.08809519,  1.15024985,\n         1.21240451]),\n <BarContainer object of 40 artists>)"
     },
     "execution_count": 285,
     "metadata": {},
     "output_type": "execute_result"
    },
    {
     "data": {
      "text/plain": "<Figure size 1400x827 with 1 Axes>",
      "image/png": "[encoded data removed]"
     },
     "metadata": {},
     "output_type": "display_data"
    }
   ],
   "source": [
    "plt.hist(l2_lp_residuals[-1][:], bins=40, density=1)"
   ],
   "metadata": {
    "collapsed": false,
    "ExecuteTime": {
     "end_time": "2023-12-04T18:27:01.962658100Z",
     "start_time": "2023-12-04T18:27:01.638563900Z"
    }
   }
  },
  {
   "cell_type": "markdown",
   "source": [
    "# Test"
   ],
   "metadata": {
    "collapsed": false
   }
  },
  {
   "cell_type": "code",
   "execution_count": 295,
   "outputs": [],
   "source": [
    "c = np.array([[-2], [-3]])\n",
    "A = np.array([[4, 8],\n",
    "              [2, 1],\n",
    "              [3, 2]])\n",
    "b = np.array([[12], [3], [4]])"
   ],
   "metadata": {
    "collapsed": false,
    "ExecuteTime": {
     "end_time": "2023-12-04T18:34:28.795626900Z",
     "start_time": "2023-12-04T18:34:28.755120200Z"
    }
   }
  },
  {
   "cell_type": "code",
   "execution_count": 296,
   "outputs": [],
   "source": [
    "res = linprog(c, A_ub=A, b_ub=b, method='highs')\n",
    "res_dual = linprog(-b, A_ub=A.T, b_ub=-c, bounds=(0, None),method='highs')"
   ],
   "metadata": {
    "collapsed": false,
    "ExecuteTime": {
     "end_time": "2023-12-04T18:34:28.811129600Z",
     "start_time": "2023-12-04T18:34:28.770122900Z"
    }
   }
  },
  {
   "cell_type": "code",
   "execution_count": 297,
   "outputs": [
    {
     "name": "stdout",
     "output_type": "stream",
     "text": [
      "-4.75 -5.0\n"
     ]
    }
   ],
   "source": [
    "print(res['fun'], res_dual['fun'])"
   ],
   "metadata": {
    "collapsed": false,
    "ExecuteTime": {
     "end_time": "2023-12-04T18:34:28.832150200Z",
     "start_time": "2023-12-04T18:34:28.796127100Z"
    }
   }
  },
  {
   "cell_type": "code",
   "execution_count": 297,
   "outputs": [],
   "source": [],
   "metadata": {
    "collapsed": false,
    "ExecuteTime": {
     "end_time": "2023-12-04T18:34:28.832768600Z",
     "start_time": "2023-12-04T18:34:28.801628300Z"
    }
   }
  }
 ],
 "metadata": {
  "kernelspec": {
   "display_name": "Python 3",
   "language": "python",
   "name": "python3"
  },
  "language_info": {
   "codemirror_mode": {
    "name": "ipython",
    "version": 2
   },
   "file_extension": ".py",
   "mimetype": "text/x-python",
   "name": "python",
   "nbconvert_exporter": "python",
   "pygments_lexer": "ipython2",
   "version": "2.7.6"
  }
 },
 "nbformat": 4,
 "nbformat_minor": 0
}
