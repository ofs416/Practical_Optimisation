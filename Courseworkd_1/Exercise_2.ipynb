{
 "cells": [
  {
   "cell_type": "code",
   "execution_count": 56,
   "metadata": {
    "collapsed": true,
    "ExecuteTime": {
     "end_time": "2023-12-06T21:20:05.091187Z",
     "start_time": "2023-12-06T21:20:05.004672200Z"
    }
   },
   "outputs": [],
   "source": [
    "import numpy as np\n",
    "from numpy.linalg import inv\n",
    "from scipy.optimize import linprog\n",
    "import timeit\n",
    "\n",
    "import matplotlib.pyplot as plt\n",
    "import seaborn as sns\n",
    "\n",
    "sns.set(rc={'figure.figsize': (14, 8.27)}, font_scale=2)\n",
    "sns.set_palette('colorblind')"
   ]
  },
  {
   "cell_type": "markdown",
   "source": [
    "$min_x f_0(x)$ subject to $f_i(x) \\leq 0$ for $i = 1, ..., m$\n",
    "$f_0(x)$ and $f_i(x)$ are convex and twice differentiable."
   ],
   "metadata": {
    "collapsed": false
   }
  },
  {
   "cell_type": "markdown",
   "source": [
    "$min_x t f_0(x)$ $+$ $e(x)$ for any $t \\geq 0$ where $e(x)$ is a log barrier function."
   ],
   "metadata": {
    "collapsed": false
   }
  },
  {
   "cell_type": "markdown",
   "source": [
    "# A)"
   ],
   "metadata": {
    "collapsed": false
   }
  },
  {
   "cell_type": "markdown",
   "source": [
    "$min_x$$||Ax-b||_1 = \\sum_{i=1}^m |  a_{i} x - b_i |$\n",
    "$min_x$$||Ax-b||_1 = min_x \\sum_{i=1}^m min_{t_i}( -t \\leq a_i^Tx - b_i \\leq t)$\n",
    "which is $min_{x,t_i} \\sum_{i=1}^m t_1$\n",
    "with $-t_i \\leq a_i^Tx - b_i \\leq t_i$ for $i=1,...,m$\n",
    "This is equivalent to $min_x \\tilde{c}^T \\tilde{x}$ with constraint $\\tilde{A} \\tilde{x} \\leq \\tilde{b}$\n",
    "Where $$ \\tilde{x} =\n",
    "\\left(\\begin{array}{cc}\n",
    "x \\\\\n",
    "t\n",
    "\\end{array}\\right)\n",
    "$$\n",
    "$$ \\tilde{c} =\n",
    "\\left(\\begin{array}{cc}\n",
    "0 \\\\\n",
    "\\textbf{1}\n",
    "\\end{array}\\right)\n",
    "$$\n",
    "$$ \\tilde{A} =\n",
    "\\left(\\begin{array}{cc}\n",
    "A & -\\textbf{I}\\\\\n",
    "-A & -\\textbf{I}\n",
    "\\end{array}\\right)\n",
    "$$\n",
    "$$ \\tilde{b} =\n",
    "\\left(\\begin{array}{cc}\n",
    "b\\\\\n",
    "-b\n",
    "\\end{array}\\right)\n",
    "$$"
   ],
   "metadata": {
    "collapsed": false
   }
  },
  {
   "cell_type": "markdown",
   "source": [
    "Now we formulate teh problem as $min_x t \\tilde{c}^T \\tilde{x} - \\sum_{i=1}^{2m} log(\\tilde{b}_i - \\tilde{a}_i^T \\tilde{x} )$"
   ],
   "metadata": {
    "collapsed": false
   }
  },
  {
   "cell_type": "markdown",
   "source": [
    "this differentiates to $t \\tilde{c}^T  + \\sum_{i=1}^{2m} \\frac{1}{\\tilde{b}_i - \\tilde{a}_i^T \\tilde{x}  } (\\tilde{a}_i^T)$"
   ],
   "metadata": {
    "collapsed": false
   }
  },
  {
   "cell_type": "markdown",
   "source": [
    "# B)"
   ],
   "metadata": {
    "collapsed": false
   }
  },
  {
   "cell_type": "code",
   "execution_count": 57,
   "outputs": [],
   "source": [
    "Ab = []\n",
    "for i in range(5):\n",
    "    A = np.genfromtxt('2023-data/A' + str(i) + '.csv', delimiter=\",\")\n",
    "    b = np.genfromtxt('2023-data/b' + str(i) + '.csv', delimiter=\",\")\n",
    "    Ab.append((A, b))"
   ],
   "metadata": {
    "collapsed": false,
    "ExecuteTime": {
     "end_time": "2023-12-06T21:20:09.729494Z",
     "start_time": "2023-12-06T21:20:05.054680900Z"
    }
   }
  },
  {
   "cell_type": "code",
   "execution_count": 58,
   "outputs": [],
   "source": [
    "A, b = Ab[3]"
   ],
   "metadata": {
    "collapsed": false,
    "ExecuteTime": {
     "end_time": "2023-12-06T21:20:09.769001400Z",
     "start_time": "2023-12-06T21:20:09.737996400Z"
    }
   }
  },
  {
   "cell_type": "code",
   "execution_count": 59,
   "outputs": [],
   "source": [
    "m, n = A.shape\n",
    "b = b.reshape((m, 1))\n",
    "c_til = np.zeros((n + m, 1))\n",
    "c_til[-m:] = 1\n",
    "b_til = np.vstack((b, -b))\n",
    "I = np.identity(m)\n",
    "A_til = np.vstack((np.hstack((A, -I)), np.hstack((-A, -I))))"
   ],
   "metadata": {
    "collapsed": false,
    "ExecuteTime": {
     "end_time": "2023-12-06T21:20:09.847516300Z",
     "start_time": "2023-12-06T21:20:09.769501800Z"
    }
   }
  },
  {
   "cell_type": "code",
   "execution_count": 60,
   "outputs": [],
   "source": [
    "def f(A, b, c, x, t):\n",
    "    if (A @ x - b <= 0).all():\n",
    "        function = t * c.T @ x - np.sum(np.log(b - A @ x))\n",
    "    else:\n",
    "        function = 'infeasible'\n",
    "    return function"
   ],
   "metadata": {
    "collapsed": false,
    "ExecuteTime": {
     "end_time": "2023-12-06T21:20:09.889522Z",
     "start_time": "2023-12-06T21:20:09.847516300Z"
    }
   }
  },
  {
   "cell_type": "code",
   "execution_count": 61,
   "outputs": [],
   "source": [
    "def grad_f(x, A, b, c, t):\n",
    "    grad = t * c + A.T @ (1 / (b - A @ x))\n",
    "    return grad"
   ],
   "metadata": {
    "collapsed": false,
    "ExecuteTime": {
     "end_time": "2023-12-06T21:20:09.966581300Z",
     "start_time": "2023-12-06T21:20:09.893023Z"
    }
   }
  },
  {
   "cell_type": "code",
   "execution_count": 62,
   "outputs": [],
   "source": [
    "def backtracking(x, A, b, c, grad, t, alpha = 0.2, beta= 0.3):\n",
    "    t_b = 1\n",
    "    while f(A, b, c, x - t_b * grad, t) == 'infeasible':\n",
    "        t_b = beta*t_b\n",
    "    while f(A, b, c, x - t_b * grad, t) > f(A, b, c, x, t) - alpha * t_b * grad.T @ grad:\n",
    "        t_b = beta * t_b\n",
    "    x = x - t_b * grad\n",
    "    return x"
   ],
   "metadata": {
    "collapsed": false,
    "ExecuteTime": {
     "end_time": "2023-12-06T21:20:10.009543200Z",
     "start_time": "2023-12-06T21:20:09.970536800Z"
    }
   }
  },
  {
   "cell_type": "code",
   "execution_count": null,
   "outputs": [
    {
     "name": "stdout",
     "output_type": "stream",
     "text": [
      "Iteration:500,  func: [[766.6678099]]\n",
      "Iteration:1000,  func: [[679.2148993]]\n",
      "Iteration:1500,  func: [[666.05046371]]\n",
      "Iteration:2000,  func: [[665.38456226]]\n",
      "318.55396732084984\n",
      "Iteration:500,  func: [[7412.33552049]]\n",
      "Iteration:1000,  func: [[7121.42249597]]\n",
      "Iteration:1500,  func: [[7042.50841988]]\n",
      "Iteration:2000,  func: [[7015.12548519]]\n",
      "300.0277674350915\n",
      "Iteration:2500,  func: [[7001.36464867]]\n",
      "Iteration:3000,  func: [[6993.13669746]]\n",
      "Iteration:3500,  func: [[6986.52073912]]\n",
      "Iteration:4000,  func: [[6982.6173773]]\n",
      "290.2806170959798\n",
      "Iteration:4500,  func: [[6980.21984902]]\n",
      "Iteration:5000,  func: [[6978.15870383]]\n",
      "Iteration:5500,  func: [[6976.78126763]]\n",
      "Iteration:6000,  func: [[6975.77844781]]\n",
      "287.08282863346926\n",
      "Iteration:6500,  func: [[6975.08455783]]\n",
      "Iteration:7000,  func: [[6974.58917609]]\n",
      "Iteration:7500,  func: [[6974.22761957]]\n",
      "Iteration:8000,  func: [[6973.95988818]]\n",
      "285.9104894302727\n",
      "Iteration:8500,  func: [[6973.75916812]]\n",
      "Iteration:9000,  func: [[6973.60655213]]\n",
      "Iteration:9500,  func: [[6973.48957735]]\n",
      "Iteration:10000,  func: [[6973.39929858]]\n",
      "285.4410025862003\n",
      "Iteration:10500,  func: [[6973.32920445]]\n",
      "Iteration:11000,  func: [[6973.27441952]]\n",
      "Iteration:11500,  func: [[6973.23128184]]\n",
      "Iteration:12000,  func: [[6973.19744573]]\n",
      "285.2197325047862\n",
      "Iteration:12500,  func: [[6973.17059449]]\n",
      "Iteration:13000,  func: [[6973.1492872]]\n",
      "Iteration:13500,  func: [[6973.13235583]]\n",
      "Iteration:14000,  func: [[6973.11885586]]\n",
      "285.10310945192157\n",
      "Iteration:14500,  func: [[6973.10803836]]\n",
      "Iteration:15000,  func: [[6973.09939868]]\n",
      "Iteration:15500,  func: [[6973.09246404]]\n",
      "Iteration:16000,  func: [[6973.08689908]]\n",
      "285.03791021384086\n",
      "Iteration:16500,  func: [[6973.08242049]]\n",
      "Iteration:17000,  func: [[6973.07881014]]\n",
      "Iteration:17500,  func: [[6973.07589334]]\n",
      "Iteration:500,  func: [[36150.30940344]]\n",
      "Iteration:1000,  func: [[35666.45414716]]\n",
      "Iteration:1500,  func: [[35474.51331222]]\n",
      "Iteration:2000,  func: [[35359.780994]]\n",
      "283.1201434085313\n",
      "Iteration:2500,  func: [[35282.97497602]]\n",
      "Iteration:3000,  func: [[35224.38437567]]\n",
      "Iteration:3500,  func: [[35176.26558359]]\n",
      "Iteration:4000,  func: [[35134.91689491]]\n",
      "280.2817138693593\n",
      "Iteration:4500,  func: [[35098.56893909]]\n",
      "Iteration:5000,  func: [[35066.12002202]]\n",
      "Iteration:5500,  func: [[35035.70499893]]\n",
      "Iteration:6000,  func: [[35007.12675376]]\n",
      "278.2978868287246\n",
      "Iteration:6500,  func: [[34980.8142342]]\n",
      "Iteration:7000,  func: [[34956.31618109]]\n",
      "Iteration:7500,  func: [[34933.4031314]]\n",
      "Iteration:8000,  func: [[34912.2408515]]\n",
      "276.78791189589873\n",
      "Iteration:8500,  func: [[34893.17320312]]\n",
      "Iteration:9000,  func: [[34874.50432911]]\n",
      "Iteration:9500,  func: [[34851.32394543]]\n",
      "Iteration:10000,  func: [[34833.05750988]]\n",
      "275.5059174125673\n",
      "Iteration:10500,  func: [[34815.9725046]]\n",
      "Iteration:11000,  func: [[34801.43628855]]\n",
      "Iteration:11500,  func: [[34788.13051929]]\n",
      "Iteration:12000,  func: [[34777.40147988]]\n",
      "274.57879815909445\n",
      "Iteration:12500,  func: [[34765.23374875]]\n",
      "Iteration:13000,  func: [[34752.43142082]]\n",
      "Iteration:13500,  func: [[34741.48806117]]\n",
      "Iteration:14000,  func: [[34730.52138645]]\n",
      "273.7895449342702\n",
      "Iteration:14500,  func: [[34720.20522456]]\n",
      "Iteration:15000,  func: [[34710.63820069]]\n",
      "Iteration:15500,  func: [[34701.73520731]]\n",
      "Iteration:16000,  func: [[34693.47116096]]\n",
      "273.16925189601875\n",
      "Iteration:16500,  func: [[34685.65842752]]\n",
      "Iteration:17000,  func: [[34678.37620578]]\n",
      "Iteration:17500,  func: [[34671.46532048]]\n",
      "Iteration:18000,  func: [[34664.93247031]]\n",
      "272.6881389565905\n",
      "Iteration:18500,  func: [[34658.78219755]]\n",
      "Iteration:19000,  func: [[34652.91664054]]\n",
      "Iteration:19500,  func: [[34647.35006831]]\n",
      "Iteration:20000,  func: [[34642.06032656]]\n",
      "272.29803333126165\n",
      "Iteration:20500,  func: [[34636.99869993]]\n",
      "Iteration:21000,  func: [[34632.15023095]]\n",
      "Iteration:21500,  func: [[34627.52985694]]\n",
      "Iteration:22000,  func: [[34623.12305349]]\n",
      "271.97274316444543\n",
      "Iteration:22500,  func: [[34618.86452361]]\n",
      "Iteration:23000,  func: [[34614.79773366]]\n",
      "Iteration:23500,  func: [[34610.88789054]]\n",
      "Iteration:24000,  func: [[34607.12550394]]\n",
      "271.69621444662243\n",
      "Iteration:24500,  func: [[34603.48205647]]\n",
      "Iteration:25000,  func: [[34599.99375104]]\n",
      "Iteration:25500,  func: [[34596.6328401]]\n",
      "Iteration:26000,  func: [[34593.37336256]]\n",
      "271.456171925837\n",
      "Iteration:26500,  func: [[34590.24861581]]\n",
      "Iteration:27000,  func: [[34587.21438824]]\n",
      "Iteration:27500,  func: [[34584.28645752]]\n",
      "Iteration:28000,  func: [[34581.44038186]]\n",
      "271.2460745429317\n",
      "Iteration:28500,  func: [[34578.6922898]]\n",
      "Iteration:29000,  func: [[34576.03578332]]\n",
      "Iteration:29500,  func: [[34573.45343451]]\n",
      "Iteration:30000,  func: [[34570.89020198]]\n",
      "271.060700117143\n",
      "Iteration:30500,  func: [[34568.34738403]]\n",
      "Iteration:31000,  func: [[34565.84066451]]\n",
      "Iteration:31500,  func: [[34563.46100154]]\n",
      "Iteration:32000,  func: [[34561.08885714]]\n",
      "270.88767538309946\n",
      "Iteration:32500,  func: [[34558.80978095]]\n",
      "Iteration:33000,  func: [[34556.61458291]]\n",
      "Iteration:33500,  func: [[34554.41736865]]\n",
      "Iteration:34000,  func: [[34552.26791059]]\n",
      "270.73147135399654\n",
      "Iteration:34500,  func: [[34550.21930912]]\n",
      "Iteration:35000,  func: [[34548.13526109]]\n",
      "Iteration:35500,  func: [[34546.07299015]]\n",
      "Iteration:36000,  func: [[34544.06209211]]\n",
      "270.5856420542469\n",
      "Iteration:36500,  func: [[34542.13042663]]\n",
      "Iteration:37000,  func: [[34540.24830773]]\n",
      "Iteration:37500,  func: [[34538.42092444]]\n"
     ]
    }
   ],
   "source": [
    "opt_x_t = []\n",
    "x = c_til\n",
    "costs = []\n",
    "for t, epsilon in [(1, 0.01), (10, 0.1), (100, 100)]:\n",
    "    iteration = 0\n",
    "    grad = grad_f(x, A_til, b_til, c_til, t)\n",
    "    while grad.T @ grad >= epsilon:\n",
    "        x = backtracking(x, A_til, b_til, c_til, grad, t)\n",
    "        grad = grad_f(x, A_til, b_til, c_til, t)\n",
    "        func = f(A_til, b_til, c_til, x, t)\n",
    "        costs.append(func)\n",
    "        iteration += 1\n",
    "        if iteration % 500 == 0:\n",
    "            print(f'Iteration:{iteration},  func: {func}')\n",
    "        if iteration % 2000 == 0:\n",
    "            residual = A @ x[:n] - b\n",
    "            print(np.sum(np.sqrt(residual*residual)))\n",
    "            opt_x_t.append(x)"
   ],
   "metadata": {
    "collapsed": false,
    "is_executing": true,
    "ExecuteTime": {
     "start_time": "2023-12-06T21:20:10.010043600Z"
    }
   }
  },
  {
   "cell_type": "code",
   "execution_count": null,
   "outputs": [],
   "source": [
    "residual = A @ opt_x_t[-1][:n] - b\n",
    "print(np.sum(np.sqrt(residual*residual)))"
   ],
   "metadata": {
    "collapsed": false,
    "is_executing": true
   }
  },
  {
   "cell_type": "code",
   "execution_count": null,
   "outputs": [],
   "source": [
    "print(c_til.T @ opt_x_t[-1])"
   ],
   "metadata": {
    "collapsed": false,
    "is_executing": true
   }
  },
  {
   "cell_type": "code",
   "execution_count": null,
   "outputs": [],
   "source": [
    "costs = np.asarray(costs)\n",
    "costs = costs.reshape((costs.shape[0]))"
   ],
   "metadata": {
    "collapsed": false,
    "is_executing": true
   }
  },
  {
   "cell_type": "code",
   "execution_count": null,
   "outputs": [],
   "source": [
    "plt.plot(costs)\n",
    "plt.xlim(-5, 100000)\n",
    "plt.show()"
   ],
   "metadata": {
    "collapsed": false,
    "is_executing": true
   }
  },
  {
   "cell_type": "code",
   "execution_count": null,
   "outputs": [],
   "source": [],
   "metadata": {
    "collapsed": false,
    "is_executing": true
   }
  }
 ],
 "metadata": {
  "kernelspec": {
   "display_name": "Python 3",
   "language": "python",
   "name": "python3"
  },
  "language_info": {
   "codemirror_mode": {
    "name": "ipython",
    "version": 2
   },
   "file_extension": ".py",
   "mimetype": "text/x-python",
   "name": "python",
   "nbconvert_exporter": "python",
   "pygments_lexer": "ipython2",
   "version": "2.7.6"
  }
 },
 "nbformat": 4,
 "nbformat_minor": 0
}
