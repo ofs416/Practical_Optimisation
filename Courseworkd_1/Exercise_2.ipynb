{
 "cells": [
  {
   "cell_type": "code",
   "execution_count": 77,
   "metadata": {
    "collapsed": true,
    "ExecuteTime": {
     "end_time": "2023-12-06T23:24:27.065724900Z",
     "start_time": "2023-12-06T23:24:26.980710200Z"
    }
   },
   "outputs": [],
   "source": [
    "import numpy as np\n",
    "from numpy.linalg import inv\n",
    "from scipy.optimize import linprog\n",
    "import timeit\n",
    "\n",
    "import matplotlib.pyplot as plt\n",
    "import seaborn as sns\n",
    "\n",
    "sns.set(rc={'figure.figsize': (14, 8.27)}, font_scale=2)\n",
    "sns.set_palette('colorblind')"
   ]
  },
  {
   "cell_type": "markdown",
   "source": [
    "$min_x f_0(x)$ subject to $f_i(x) \\leq 0$ for $i = 1, ..., m$\n",
    "$f_0(x)$ and $f_i(x)$ are convex and twice differentiable."
   ],
   "metadata": {
    "collapsed": false
   }
  },
  {
   "cell_type": "markdown",
   "source": [
    "$min_x t f_0(x)$ $+$ $e(x)$ for any $t \\geq 0$ where $e(x)$ is a log barrier function."
   ],
   "metadata": {
    "collapsed": false
   }
  },
  {
   "cell_type": "markdown",
   "source": [
    "# A)"
   ],
   "metadata": {
    "collapsed": false
   }
  },
  {
   "cell_type": "markdown",
   "source": [
    "$min_x$$||Ax-b||_1 = \\sum_{i=1}^m |  a_{i} x - b_i |$\n",
    "$min_x$$||Ax-b||_1 = min_x \\sum_{i=1}^m min_{t_i}( -t \\leq a_i^Tx - b_i \\leq t)$\n",
    "which is $min_{x,t_i} \\sum_{i=1}^m t_1$\n",
    "with $-t_i \\leq a_i^Tx - b_i \\leq t_i$ for $i=1,...,m$\n",
    "This is equivalent to $min_x \\tilde{c}^T \\tilde{x}$ with constraint $\\tilde{A} \\tilde{x} \\leq \\tilde{b}$\n",
    "Where $$ \\tilde{x} =\n",
    "\\left(\\begin{array}{cc}\n",
    "x \\\\\n",
    "t\n",
    "\\end{array}\\right)\n",
    "$$\n",
    "$$ \\tilde{c} =\n",
    "\\left(\\begin{array}{cc}\n",
    "0 \\\\\n",
    "\\textbf{1}\n",
    "\\end{array}\\right)\n",
    "$$\n",
    "$$ \\tilde{A} =\n",
    "\\left(\\begin{array}{cc}\n",
    "A & -\\textbf{I}\\\\\n",
    "-A & -\\textbf{I}\n",
    "\\end{array}\\right)\n",
    "$$\n",
    "$$ \\tilde{b} =\n",
    "\\left(\\begin{array}{cc}\n",
    "b\\\\\n",
    "-b\n",
    "\\end{array}\\right)\n",
    "$$"
   ],
   "metadata": {
    "collapsed": false
   }
  },
  {
   "cell_type": "markdown",
   "source": [
    "Now we formulate teh problem as $min_x t \\tilde{c}^T \\tilde{x} - \\sum_{i=1}^{2m} log(\\tilde{b}_i - \\tilde{a}_i^T \\tilde{x} )$"
   ],
   "metadata": {
    "collapsed": false
   }
  },
  {
   "cell_type": "markdown",
   "source": [
    "this differentiates to $t \\tilde{c}^T  + \\sum_{i=1}^{2m} \\frac{1}{\\tilde{b}_i - \\tilde{a}_i^T \\tilde{x}  } (\\tilde{a}_i^T)$"
   ],
   "metadata": {
    "collapsed": false
   }
  },
  {
   "cell_type": "markdown",
   "source": [
    "# B)"
   ],
   "metadata": {
    "collapsed": false
   }
  },
  {
   "cell_type": "code",
   "execution_count": 78,
   "outputs": [],
   "source": [
    "Ab = []\n",
    "for i in range(5):\n",
    "    A = np.genfromtxt('2023-data/A' + str(i) + '.csv', delimiter=\",\")\n",
    "    b = np.genfromtxt('2023-data/b' + str(i) + '.csv', delimiter=\",\")\n",
    "    Ab.append((A, b))"
   ],
   "metadata": {
    "collapsed": false,
    "ExecuteTime": {
     "end_time": "2023-12-06T23:24:38.691248700Z",
     "start_time": "2023-12-06T23:24:27.025718300Z"
    }
   }
  },
  {
   "cell_type": "code",
   "execution_count": 79,
   "outputs": [],
   "source": [
    "A, b = Ab[3]"
   ],
   "metadata": {
    "collapsed": false,
    "ExecuteTime": {
     "end_time": "2023-12-06T23:24:38.767262200Z",
     "start_time": "2023-12-06T23:24:38.679246300Z"
    }
   }
  },
  {
   "cell_type": "code",
   "execution_count": 80,
   "outputs": [],
   "source": [
    "m, n = A.shape\n",
    "b = b.reshape((m, 1))\n",
    "c_til = np.zeros((n + m, 1))\n",
    "c_til[-m:] = 1\n",
    "b_til = np.vstack((b, -b))\n",
    "I = np.identity(m)\n",
    "A_til = np.vstack((np.hstack((A, -I)), np.hstack((-A, -I))))"
   ],
   "metadata": {
    "collapsed": false,
    "ExecuteTime": {
     "end_time": "2023-12-06T23:24:38.932290500Z",
     "start_time": "2023-12-06T23:24:38.749759200Z"
    }
   }
  },
  {
   "cell_type": "code",
   "execution_count": 81,
   "outputs": [],
   "source": [
    "def f(A, b, c, x, t):\n",
    "    if (A @ x - b <= 0).all():\n",
    "        function = t * c.T @ x - np.sum(np.log(b - A @ x))\n",
    "    else:\n",
    "        function = 'infeasible'\n",
    "    return function"
   ],
   "metadata": {
    "collapsed": false,
    "ExecuteTime": {
     "end_time": "2023-12-06T23:24:38.993801700Z",
     "start_time": "2023-12-06T23:24:38.933290900Z"
    }
   }
  },
  {
   "cell_type": "code",
   "execution_count": 82,
   "outputs": [],
   "source": [
    "def grad_f(x, A, b, c, t):\n",
    "    grad = t * c + A.T @ (1 / (b - A @ x))\n",
    "    return grad"
   ],
   "metadata": {
    "collapsed": false,
    "ExecuteTime": {
     "end_time": "2023-12-06T23:24:39.155829500Z",
     "start_time": "2023-12-06T23:24:38.975297800Z"
    }
   }
  },
  {
   "cell_type": "code",
   "execution_count": 83,
   "outputs": [],
   "source": [
    "def backtracking(x, A, b, c, grad, t, alpha = 0.2, beta= 0.3):\n",
    "    t_b = 1\n",
    "    while f(A, b, c, x - t_b * grad, t) == 'infeasible':\n",
    "        t_b = beta*t_b\n",
    "    while f(A, b, c, x - t_b * grad, t) > f(A, b, c, x, t) - alpha * t_b * grad.T @ grad:\n",
    "        t_b = beta * t_b\n",
    "    x = x - t_b * grad\n",
    "    return x"
   ],
   "metadata": {
    "collapsed": false,
    "ExecuteTime": {
     "end_time": "2023-12-06T23:24:39.203837900Z",
     "start_time": "2023-12-06T23:24:39.163331600Z"
    }
   }
  },
  {
   "cell_type": "code",
   "execution_count": 84,
   "outputs": [
    {
     "name": "stdout",
     "output_type": "stream",
     "text": [
      "Iteration:500,  func: [[766.6678099]]\n",
      "Iteration:1000,  func: [[679.2148993]]\n",
      "Iteration:1500,  func: [[666.05046371]]\n",
      "Iteration:2000,  func: [[665.38456226]]\n",
      "318.55396732084984\n",
      "Iteration:500,  func: [[7405.47969499]]\n",
      "Iteration:1000,  func: [[7115.90256079]]\n",
      "Iteration:1500,  func: [[7041.95167822]]\n",
      "Iteration:2000,  func: [[7014.58387727]]\n",
      "299.9103602820883\n",
      "Iteration:2500,  func: [[7001.1405145]]\n",
      "Iteration:3000,  func: [[6992.91947755]]\n",
      "Iteration:3500,  func: [[6986.32092677]]\n",
      "Iteration:4000,  func: [[6982.37702396]]\n",
      "290.17974359051493\n",
      "Iteration:4500,  func: [[6980.01576468]]\n",
      "Iteration:5000,  func: [[6978.01493234]]\n",
      "Iteration:5500,  func: [[6976.65082146]]\n",
      "Iteration:6000,  func: [[6975.68991363]]\n",
      "287.02303131960537\n",
      "Iteration:6500,  func: [[6975.02133414]]\n",
      "Iteration:7000,  func: [[6974.54262506]]\n",
      "Iteration:7500,  func: [[6974.19370265]]\n",
      "Iteration:500,  func: [[36248.152219]]\n",
      "Iteration:1000,  func: [[35761.61619013]]\n",
      "Iteration:1500,  func: [[35566.56194806]]\n",
      "Iteration:2000,  func: [[35451.65896459]]\n",
      "284.1706589173592\n",
      "Iteration:2500,  func: [[35374.96187317]]\n",
      "Iteration:3000,  func: [[35315.27344908]]\n",
      "Iteration:3500,  func: [[35265.4753746]]\n",
      "Iteration:4000,  func: [[35222.53721628]]\n",
      "281.31844316779507\n",
      "Iteration:4500,  func: [[35184.6615406]]\n",
      "Iteration:5000,  func: [[35150.76403539]]\n",
      "Iteration:5500,  func: [[35119.26824046]]\n",
      "Iteration:6000,  func: [[35089.95735129]]\n",
      "279.2842714977031\n",
      "Iteration:6500,  func: [[35063.03301035]]\n",
      "Iteration:7000,  func: [[35037.26900124]]\n",
      "Iteration:7500,  func: [[35012.92262234]]\n",
      "Iteration:8000,  func: [[34990.63551035]]\n",
      "277.72680825893656\n",
      "Iteration:8500,  func: [[34969.56688509]]\n",
      "Iteration:9000,  func: [[34950.26256969]]\n",
      "Iteration:9500,  func: [[34933.24901498]]\n",
      "Iteration:10000,  func: [[34910.99482687]]\n",
      "276.47239431109654\n",
      "Iteration:10500,  func: [[34891.49540601]]\n",
      "Iteration:11000,  func: [[34875.26639008]]\n",
      "Iteration:11500,  func: [[34859.5034392]]\n",
      "Iteration:12000,  func: [[34845.57787018]]\n",
      "275.4170497891559\n",
      "Iteration:12500,  func: [[34832.84842066]]\n",
      "Iteration:13000,  func: [[34821.903364]]\n",
      "Iteration:13500,  func: [[34809.39810272]]\n",
      "Iteration:14000,  func: [[34796.61894702]]\n",
      "274.6171450156885\n",
      "Iteration:14500,  func: [[34785.54869018]]\n",
      "Iteration:15000,  func: [[34774.46574168]]\n",
      "Iteration:15500,  func: [[34763.89192221]]\n",
      "Iteration:16000,  func: [[34753.96343906]]\n",
      "273.93123923777136\n",
      "Iteration:16500,  func: [[34744.64945032]]\n",
      "Iteration:17000,  func: [[34735.8906715]]\n",
      "Iteration:17500,  func: [[34727.61968296]]\n",
      "Iteration:18000,  func: [[34719.78266422]]\n",
      "273.3857011676506\n",
      "Iteration:18500,  func: [[34712.35826537]]\n",
      "Iteration:19000,  func: [[34705.30134205]]\n",
      "Iteration:19500,  func: [[34698.57749956]]\n",
      "Iteration:20000,  func: [[34692.15859892]]\n",
      "272.9438379481471\n",
      "Iteration:20500,  func: [[34686.02907758]]\n",
      "Iteration:21000,  func: [[34680.16563948]]\n",
      "Iteration:21500,  func: [[34674.55983667]]\n",
      "Iteration:22000,  func: [[34669.1644747]]\n",
      "272.57322203356125\n"
     ]
    },
    {
     "ename": "KeyboardInterrupt",
     "evalue": "",
     "output_type": "error",
     "traceback": [
      "\u001B[1;31m---------------------------------------------------------------------------\u001B[0m",
      "\u001B[1;31mKeyboardInterrupt\u001B[0m                         Traceback (most recent call last)",
      "Cell \u001B[1;32mIn[84], line 8\u001B[0m\n\u001B[0;32m      6\u001B[0m grad \u001B[38;5;241m=\u001B[39m grad_f(x, A_til, b_til, c_til, t)\n\u001B[0;32m      7\u001B[0m \u001B[38;5;28;01mwhile\u001B[39;00m grad\u001B[38;5;241m.\u001B[39mT \u001B[38;5;241m@\u001B[39m grad \u001B[38;5;241m>\u001B[39m\u001B[38;5;241m=\u001B[39m epsilon:\n\u001B[1;32m----> 8\u001B[0m     x \u001B[38;5;241m=\u001B[39m \u001B[43mbacktracking\u001B[49m\u001B[43m(\u001B[49m\u001B[43mx\u001B[49m\u001B[43m,\u001B[49m\u001B[43m \u001B[49m\u001B[43mA_til\u001B[49m\u001B[43m,\u001B[49m\u001B[43m \u001B[49m\u001B[43mb_til\u001B[49m\u001B[43m,\u001B[49m\u001B[43m \u001B[49m\u001B[43mc_til\u001B[49m\u001B[43m,\u001B[49m\u001B[43m \u001B[49m\u001B[43mgrad\u001B[49m\u001B[43m,\u001B[49m\u001B[43m \u001B[49m\u001B[43mt\u001B[49m\u001B[43m)\u001B[49m\n\u001B[0;32m      9\u001B[0m     grad \u001B[38;5;241m=\u001B[39m grad_f(x, A_til, b_til, c_til, t)\n\u001B[0;32m     10\u001B[0m     func \u001B[38;5;241m=\u001B[39m f(A_til, b_til, c_til, x, t)\n",
      "Cell \u001B[1;32mIn[83], line 3\u001B[0m, in \u001B[0;36mbacktracking\u001B[1;34m(x, A, b, c, grad, t, alpha, beta)\u001B[0m\n\u001B[0;32m      1\u001B[0m \u001B[38;5;28;01mdef\u001B[39;00m \u001B[38;5;21mbacktracking\u001B[39m(x, A, b, c, grad, t, alpha \u001B[38;5;241m=\u001B[39m \u001B[38;5;241m0.2\u001B[39m, beta\u001B[38;5;241m=\u001B[39m \u001B[38;5;241m0.3\u001B[39m):\n\u001B[0;32m      2\u001B[0m     t_b \u001B[38;5;241m=\u001B[39m \u001B[38;5;241m1\u001B[39m\n\u001B[1;32m----> 3\u001B[0m     \u001B[38;5;28;01mwhile\u001B[39;00m \u001B[43mf\u001B[49m\u001B[43m(\u001B[49m\u001B[43mA\u001B[49m\u001B[43m,\u001B[49m\u001B[43m \u001B[49m\u001B[43mb\u001B[49m\u001B[43m,\u001B[49m\u001B[43m \u001B[49m\u001B[43mc\u001B[49m\u001B[43m,\u001B[49m\u001B[43m \u001B[49m\u001B[43mx\u001B[49m\u001B[43m \u001B[49m\u001B[38;5;241;43m-\u001B[39;49m\u001B[43m \u001B[49m\u001B[43mt_b\u001B[49m\u001B[43m \u001B[49m\u001B[38;5;241;43m*\u001B[39;49m\u001B[43m \u001B[49m\u001B[43mgrad\u001B[49m\u001B[43m,\u001B[49m\u001B[43m \u001B[49m\u001B[43mt\u001B[49m\u001B[43m)\u001B[49m \u001B[38;5;241m==\u001B[39m \u001B[38;5;124m'\u001B[39m\u001B[38;5;124minfeasible\u001B[39m\u001B[38;5;124m'\u001B[39m:\n\u001B[0;32m      4\u001B[0m         t_b \u001B[38;5;241m=\u001B[39m beta\u001B[38;5;241m*\u001B[39mt_b\n\u001B[0;32m      5\u001B[0m     \u001B[38;5;28;01mwhile\u001B[39;00m f(A, b, c, x \u001B[38;5;241m-\u001B[39m t_b \u001B[38;5;241m*\u001B[39m grad, t) \u001B[38;5;241m>\u001B[39m f(A, b, c, x, t) \u001B[38;5;241m-\u001B[39m alpha \u001B[38;5;241m*\u001B[39m t_b \u001B[38;5;241m*\u001B[39m grad\u001B[38;5;241m.\u001B[39mT \u001B[38;5;241m@\u001B[39m grad:\n",
      "Cell \u001B[1;32mIn[81], line 2\u001B[0m, in \u001B[0;36mf\u001B[1;34m(A, b, c, x, t)\u001B[0m\n\u001B[0;32m      1\u001B[0m \u001B[38;5;28;01mdef\u001B[39;00m \u001B[38;5;21mf\u001B[39m(A, b, c, x, t):\n\u001B[1;32m----> 2\u001B[0m     \u001B[38;5;28;01mif\u001B[39;00m \u001B[43m(\u001B[49m\u001B[43mA\u001B[49m\u001B[43m \u001B[49m\u001B[38;5;241;43m@\u001B[39;49m\u001B[43m \u001B[49m\u001B[43mx\u001B[49m\u001B[43m \u001B[49m\u001B[38;5;241;43m-\u001B[39;49m\u001B[43m \u001B[49m\u001B[43mb\u001B[49m\u001B[43m \u001B[49m\u001B[38;5;241;43m<\u001B[39;49m\u001B[38;5;241;43m=\u001B[39;49m\u001B[43m \u001B[49m\u001B[38;5;241;43m0\u001B[39;49m\u001B[43m)\u001B[49m\u001B[38;5;241;43m.\u001B[39;49m\u001B[43mall\u001B[49m\u001B[43m(\u001B[49m\u001B[43m)\u001B[49m:\n\u001B[0;32m      3\u001B[0m         function \u001B[38;5;241m=\u001B[39m t \u001B[38;5;241m*\u001B[39m c\u001B[38;5;241m.\u001B[39mT \u001B[38;5;241m@\u001B[39m x \u001B[38;5;241m-\u001B[39m np\u001B[38;5;241m.\u001B[39msum(np\u001B[38;5;241m.\u001B[39mlog(b \u001B[38;5;241m-\u001B[39m A \u001B[38;5;241m@\u001B[39m x))\n\u001B[0;32m      4\u001B[0m     \u001B[38;5;28;01melse\u001B[39;00m:\n",
      "File \u001B[1;32m~\\PycharmProjects\\Practical_Optimisation\\venv\\lib\\site-packages\\numpy\\core\\_methods.py:61\u001B[0m, in \u001B[0;36m_all\u001B[1;34m(a, axis, dtype, out, keepdims, where)\u001B[0m\n\u001B[0;32m     58\u001B[0m         \u001B[38;5;28;01mreturn\u001B[39;00m umr_any(a, axis, dtype, out, keepdims)\n\u001B[0;32m     59\u001B[0m     \u001B[38;5;28;01mreturn\u001B[39;00m umr_any(a, axis, dtype, out, keepdims, where\u001B[38;5;241m=\u001B[39mwhere)\n\u001B[1;32m---> 61\u001B[0m \u001B[38;5;28;01mdef\u001B[39;00m \u001B[38;5;21m_all\u001B[39m(a, axis\u001B[38;5;241m=\u001B[39m\u001B[38;5;28;01mNone\u001B[39;00m, dtype\u001B[38;5;241m=\u001B[39m\u001B[38;5;28;01mNone\u001B[39;00m, out\u001B[38;5;241m=\u001B[39m\u001B[38;5;28;01mNone\u001B[39;00m, keepdims\u001B[38;5;241m=\u001B[39m\u001B[38;5;28;01mFalse\u001B[39;00m, \u001B[38;5;241m*\u001B[39m, where\u001B[38;5;241m=\u001B[39m\u001B[38;5;28;01mTrue\u001B[39;00m):\n\u001B[0;32m     62\u001B[0m     \u001B[38;5;66;03m# Parsing keyword arguments is currently fairly slow, so avoid it for now\u001B[39;00m\n\u001B[0;32m     63\u001B[0m     \u001B[38;5;28;01mif\u001B[39;00m where \u001B[38;5;129;01mis\u001B[39;00m \u001B[38;5;28;01mTrue\u001B[39;00m:\n\u001B[0;32m     64\u001B[0m         \u001B[38;5;28;01mreturn\u001B[39;00m umr_all(a, axis, dtype, out, keepdims)\n",
      "\u001B[1;31mKeyboardInterrupt\u001B[0m: "
     ]
    }
   ],
   "source": [
    "opt_x_t = []\n",
    "x = c_til\n",
    "costs = []\n",
    "for t, epsilon in [(1, 0.001), (10, 10), (100, 1000)]:\n",
    "    iteration = 0\n",
    "    grad = grad_f(x, A_til, b_til, c_til, t)\n",
    "    while grad.T @ grad >= epsilon:\n",
    "        x = backtracking(x, A_til, b_til, c_til, grad, t)\n",
    "        grad = grad_f(x, A_til, b_til, c_til, t)\n",
    "        func = f(A_til, b_til, c_til, x, t)\n",
    "        costs.append(func)\n",
    "        iteration += 1\n",
    "        if iteration % 500 == 0:\n",
    "            print(f'Iteration:{iteration},  func: {func}')\n",
    "        if iteration % 2000 == 0:\n",
    "            residual = A @ x[:n] - b\n",
    "            print(np.sum(np.sqrt(residual*residual)))\n",
    "            opt_x_t.append(x)"
   ],
   "metadata": {
    "collapsed": false,
    "ExecuteTime": {
     "end_time": "2023-12-07T00:00:21.017558200Z",
     "start_time": "2023-12-06T23:24:39.208338300Z"
    }
   }
  },
  {
   "cell_type": "code",
   "execution_count": 85,
   "outputs": [
    {
     "name": "stdout",
     "output_type": "stream",
     "text": [
      "272.57322203356125\n"
     ]
    }
   ],
   "source": [
    "residual = A @ opt_x_t[-1][:n] - b\n",
    "print(np.sum(np.sqrt(residual*residual)))"
   ],
   "metadata": {
    "collapsed": false,
    "ExecuteTime": {
     "end_time": "2023-12-07T00:00:23.145927700Z",
     "start_time": "2023-12-07T00:00:23.126924700Z"
    }
   }
  },
  {
   "cell_type": "code",
   "execution_count": 86,
   "outputs": [
    {
     "name": "stdout",
     "output_type": "stream",
     "text": [
      "[[284.90330822]]\n"
     ]
    }
   ],
   "source": [
    "print(c_til.T @ opt_x_t[-1])"
   ],
   "metadata": {
    "collapsed": false,
    "ExecuteTime": {
     "end_time": "2023-12-07T00:00:23.713026600Z",
     "start_time": "2023-12-07T00:00:23.660017400Z"
    }
   }
  },
  {
   "cell_type": "code",
   "execution_count": 87,
   "outputs": [],
   "source": [
    "costs = np.asarray(costs)\n",
    "costs = costs.reshape((costs.shape[0]))"
   ],
   "metadata": {
    "collapsed": false,
    "ExecuteTime": {
     "end_time": "2023-12-07T00:00:24.204111800Z",
     "start_time": "2023-12-07T00:00:24.054586Z"
    }
   }
  },
  {
   "cell_type": "code",
   "execution_count": 96,
   "outputs": [
    {
     "data": {
      "text/plain": "<Figure size 1400x827 with 1 Axes>",
      "image/png": "[encoded data removed]"
     },
     "metadata": {},
     "output_type": "display_data"
    }
   ],
   "source": [
    "plt.plot(costs)\n",
    "plt.ylabel('Cost')\n",
    "plt.xlabel('iterations')\n",
    "plt.xlim(-5, 17000)\n",
    "plt.savefig('Figures/ex2_costViterations.png', format=\"png\", dpi=800, bbox_inches=\"tight\")\n",
    "plt.show()\n",
    "plt.close()"
   ],
   "metadata": {
    "collapsed": false,
    "ExecuteTime": {
     "end_time": "2023-12-07T00:12:00.520551700Z",
     "start_time": "2023-12-07T00:11:55.742599300Z"
    }
   }
  },
  {
   "cell_type": "code",
   "execution_count": 94,
   "outputs": [],
   "source": [],
   "metadata": {
    "collapsed": false,
    "ExecuteTime": {
     "end_time": "2023-12-07T00:07:53.972381Z",
     "start_time": "2023-12-07T00:07:53.934874600Z"
    }
   }
  }
 ],
 "metadata": {
  "kernelspec": {
   "display_name": "Python 3",
   "language": "python",
   "name": "python3"
  },
  "language_info": {
   "codemirror_mode": {
    "name": "ipython",
    "version": 2
   },
   "file_extension": ".py",
   "mimetype": "text/x-python",
   "name": "python",
   "nbconvert_exporter": "python",
   "pygments_lexer": "ipython2",
   "version": "2.7.6"
  }
 },
 "nbformat": 4,
 "nbformat_minor": 0
}
