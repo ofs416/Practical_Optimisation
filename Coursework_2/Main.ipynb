{
 "cells": [
  {
   "cell_type": "code",
   "execution_count": 3,
   "metadata": {},
   "outputs": [
    {
     "data": {
      "text/plain": [
       "PS (generic function with 1 method)"
      ]
     },
     "metadata": {},
     "output_type": "display_data"
    }
   ],
   "source": [
    "using Printf\n",
    "using Statistics, Distributions\n",
    "using Plots\n",
    "using BenchmarkTools\n",
    "\n",
    "include(\"KBFunc.jl\")\n",
    "include(\"GeneticAlgo.jl\")\n",
    "include(\"Misc.jl\")\n",
    "include(\"ParticleSwarm.jl\")"
   ]
  },
  {
   "cell_type": "code",
   "execution_count": 2,
   "metadata": {},
   "outputs": [
    {
     "data": {
      "text/plain": [
       "-0.3516000536826246"
      ]
     },
     "metadata": {},
     "output_type": "display_data"
    }
   ],
   "source": [
    "GA(2, 200, 0.65, 0.005, var_locus_crossover, score_top1, true)"
   ]
  },
  {
   "cell_type": "code",
   "execution_count": 3,
   "metadata": {},
   "outputs": [
    {
     "name": "stdout",
     "output_type": "stream",
     "text": [
      "0.5 0.001 -0.5046081958290649 0.05411401804537784\n"
     ]
    },
    {
     "name": "stdout",
     "output_type": "stream",
     "text": [
      "0.5 0.005 -0.5101513356722144 0.059659238291138304\n"
     ]
    },
    {
     "name": "stdout",
     "output_type": "stream",
     "text": [
      "0.5 0.01 -0.5064311095538337 0.052293711902385964\n"
     ]
    },
    {
     "name": "stdout",
     "output_type": "stream",
     "text": [
      "0.5 0.05 -0.48238247100169074 0.05288392683867397\n"
     ]
    },
    {
     "name": "stdout",
     "output_type": "stream",
     "text": [
      "0.6 0.001 -0.49803340547237396 0.04596478132559206\n"
     ]
    },
    {
     "name": "stdout",
     "output_type": "stream",
     "text": [
      "0.6 0.005 -0.5231345094631963 0.04883705815270072\n"
     ]
    },
    {
     "name": "stdout",
     "output_type": "stream",
     "text": [
      "0.6 0.01 -0.520469414690517 0.06609395851938643\n"
     ]
    },
    {
     "name": "stdout",
     "output_type": "stream",
     "text": [
      "0.6 0.05 -0.4855728255573606 0.04596196348166769"
     ]
    },
    {
     "name": "stdout",
     "output_type": "stream",
     "text": [
      "\n",
      "0.7 0.001 -0.5143226687673869 0.06207213987740178"
     ]
    },
    {
     "name": "stdout",
     "output_type": "stream",
     "text": [
      "\n",
      "0.7 0.005 -0.5003165034277854 0.05542647002462663"
     ]
    },
    {
     "name": "stdout",
     "output_type": "stream",
     "text": [
      "\n",
      "0.7 0.01 -0.49825247360764563 0.05187905816556821"
     ]
    },
    {
     "name": "stdout",
     "output_type": "stream",
     "text": [
      "\n",
      "0.7 0.05 -0.47495738918392816 0.045023333440699906\n"
     ]
    },
    {
     "name": "stdout",
     "output_type": "stream",
     "text": [
      "0.8 0.001 -0.5060629911126493 0.05072652213384197"
     ]
    },
    {
     "name": "stdout",
     "output_type": "stream",
     "text": [
      "\n",
      "0.8 0.005 -0.5112168449548622 0.057367497307741405\n"
     ]
    }
   ],
   "source": [
    "result = []\n",
    "avg = Matrix{Float64}(undef, (4, 4))\n",
    "stdev = Matrix{Float64}(undef, (4, 4))\n",
    "for (i, cro) in enumerate(0.5:0.1:0.8)\n",
    "    for (j, mut) in enumerate([0.001, 0.005, 0.01, 0.05])\n",
    "        scores = Float64[]\n",
    "        for iter in 1:50\n",
    "                push!(scores, GA(8, 200, cro, mut, var_locus_crossover, score_top1, false))\n",
    "        end\n",
    "        avg[i, j] = mean(scores)\n",
    "        stdev[i, j] = std(scores)\n",
    "        println(cro, \" \",mut, \" \",mean(scores), \" \", std(scores))\n",
    "    end\n",
    "end"
   ]
  },
  {
   "cell_type": "code",
   "execution_count": 6,
   "metadata": {},
   "outputs": [],
   "source": [
    "#PS(2, 200, 0.6, 0.6, 0.7, score_top1, true)\n",
    "#GA(2, 200, 0.65, 0.005, var_locus_crossover, score_top1, true)\n",
    "\n",
    "result = []\n",
    "for innertia in 0.4:0.1:0.9\n",
    "    avg = Matrix{Float64}(undef, (5, 7))\n",
    "    stdev = Matrix{Float64}(undef, (5, 7))\n",
    "    for (i, cog) in enumerate(1.:0.5:3.)\n",
    "        for (j, soc) in enumerate(0.5:0.25:2)\n",
    "            scores = Float64[]\n",
    "            for iter in 1:25\n",
    "                push!(scores, PS(8, 200, innertia, cog, soc, false)[1])\n",
    "            end\n",
    "            avg[i, j] = mean(scores)\n",
    "            stdev[i, j] = std(scores)\n",
    "            println(innertia, \" \",cog, \" \",soc, \" \",mean(scores), \" \", std(scores))\n",
    "        end\n",
    "    end\n",
    "    push!(result, [avg, stdev])\n",
    "end\n",
    "\n",
    "#println(avg)\n",
    "#println(stdev)\n",
    "\n",
    "#scores = Float64[]\n",
    "#for iter in 1:50 \n",
    "#    push!(scores, PS(2, 200, 0.6, 0.8, 0.4, score_all, false))\n",
    "#end\n",
    "#println(mean(scores))\n",
    "#println(std(scores))\n",
    "#GA(2, 250, 0.7, 0.001, var_locus_crossover, score_top1, true)"
   ]
  }
 ],
 "metadata": {
  "kernelspec": {
   "display_name": "Julia 1.9.4",
   "language": "julia",
   "name": "julia-1.9"
  },
  "language_info": {
   "file_extension": ".jl",
   "mimetype": "application/julia",
   "name": "julia",
   "version": "1.9.4"
  }
 },
 "nbformat": 4,
 "nbformat_minor": 2
}
