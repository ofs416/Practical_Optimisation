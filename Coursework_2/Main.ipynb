{
 "cells": [
  {
   "cell_type": "code",
   "execution_count": 1,
   "metadata": {},
   "outputs": [
    {
     "data": {
      "text/plain": [
       "PS (generic function with 1 method)"
      ]
     },
     "metadata": {},
     "output_type": "display_data"
    }
   ],
   "source": [
    "using Printf\n",
    "using Statistics, Distributions\n",
    "using Plots\n",
    "using BenchmarkTools\n",
    "\n",
    "include(\"KBFunc.jl\")\n",
    "include(\"GeneticAlgo.jl\")\n",
    "include(\"Misc.jl\")\n",
    "include(\"ParticleSwarm.jl\")"
   ]
  },
  {
   "cell_type": "code",
   "execution_count": 2,
   "metadata": {},
   "outputs": [
    {
     "data": {
      "text/plain": [
       "-0.7274320727790515"
      ]
     },
     "metadata": {},
     "output_type": "display_data"
    }
   ],
   "source": [
    "PS(8, 250, 0.5, 1.5, .75, score_top5, false)"
   ]
  },
  {
   "cell_type": "code",
   "execution_count": 3,
   "metadata": {},
   "outputs": [
    {
     "name": "stdout",
     "output_type": "stream",
     "text": [
      "0.4 0.5 0.25 -0.37562821834687793 0.03860688032110795\n"
     ]
    },
    {
     "name": "stdout",
     "output_type": "stream",
     "text": [
      "0.4 0.5 0.5 -0.4382566530243219 0.07920694846729623"
     ]
    },
    {
     "name": "stdout",
     "output_type": "stream",
     "text": [
      "\n",
      "0.4 0.5 0.75 -0.4629764204208379 0.08133494978301391\n"
     ]
    },
    {
     "name": "stdout",
     "output_type": "stream",
     "text": [
      "0.4 0.5 1.0 -0.4773621844572341 0.09807125610241854\n"
     ]
    },
    {
     "name": "stdout",
     "output_type": "stream",
     "text": [
      "0.4 1.0 0.25 -0.3762212562842999 0.040986879455697824\n"
     ]
    },
    {
     "name": "stdout",
     "output_type": "stream",
     "text": [
      "0.4 1.0 0.5 -0.42688919300796774 0.06318442989436893\n"
     ]
    },
    {
     "name": "stdout",
     "output_type": "stream",
     "text": [
      "0.4 1.0 0.75 -0.45774176497040475 0.07981144135363842"
     ]
    },
    {
     "name": "stdout",
     "output_type": "stream",
     "text": [
      "\n",
      "0.4 1.0 1.0 -0.47903561375103826 0.07887528572315211\n"
     ]
    },
    {
     "name": "stdout",
     "output_type": "stream",
     "text": [
      "0.4 1.5 0.25 -0.3755150985860518 0.04105100852727069"
     ]
    },
    {
     "name": "stdout",
     "output_type": "stream",
     "text": [
      "\n",
      "0.4 1.5 0.5 -0.43904806189234713 0.06980860179681625\n"
     ]
    },
    {
     "name": "stdout",
     "output_type": "stream",
     "text": [
      "0.4 1.5 0.75 -0.46742701420047067 0.07967264875067104\n"
     ]
    },
    {
     "name": "stdout",
     "output_type": "stream",
     "text": [
      "0.4 1.5 1.0 -0.4941945287798466 0.09669513256739617"
     ]
    },
    {
     "name": "stdout",
     "output_type": "stream",
     "text": [
      "\n",
      "0.4 2.0 0.25 -0.38727287534044613 0.03672613736845912"
     ]
    },
    {
     "name": "stdout",
     "output_type": "stream",
     "text": [
      "\n",
      "0.4 2.0 0.5 -0.4514583572676146 0.06849984219992075"
     ]
    },
    {
     "name": "stdout",
     "output_type": "stream",
     "text": [
      "\n",
      "0.4 2.0 0.75 -0.494655799024731 0.09073056553316979"
     ]
    },
    {
     "name": "stdout",
     "output_type": "stream",
     "text": [
      "\n",
      "0.4 2.0 1.0 -0.5478763879384373 0.09990739260395662\n"
     ]
    },
    {
     "name": "stdout",
     "output_type": "stream",
     "text": [
      "0.5 0.5 0.25 -0.40202137390312254 0.04799883045219842\n"
     ]
    },
    {
     "name": "stdout",
     "output_type": "stream",
     "text": [
      "0.5 0.5 0.5 -0.4693528391769661 0.0805324935813827\n"
     ]
    },
    {
     "name": "stdout",
     "output_type": "stream",
     "text": [
      "0.5 0.5 0.75 -0.5034226211869622 0.09017938564270618"
     ]
    },
    {
     "name": "stdout",
     "output_type": "stream",
     "text": [
      "\n",
      "0.5 0.5 1.0 -0.48948103169017143 0.09394654687444268\n"
     ]
    },
    {
     "name": "stdout",
     "output_type": "stream",
     "text": [
      "0.5 1.0 0.25 -0.4106181116529211 0.058472567132680536\n"
     ]
    },
    {
     "name": "stdout",
     "output_type": "stream",
     "text": [
      "0.5 1.0 0.5 -0.46742767748745223 0.08121027898728972"
     ]
    },
    {
     "name": "stdout",
     "output_type": "stream",
     "text": [
      "\n",
      "0.5 1.0 0.75 -0.5089245817688314 0.09675071899055869\n"
     ]
    },
    {
     "name": "stdout",
     "output_type": "stream",
     "text": [
      "0.5 1.0 1.0 -0.5082855269471361 0.09575387712060222\n"
     ]
    },
    {
     "name": "stdout",
     "output_type": "stream",
     "text": [
      "0.5 1.5 0.25 -0.4245049099027052 0.06368598549092717\n"
     ]
    },
    {
     "name": "stdout",
     "output_type": "stream",
     "text": [
      "0.5 1.5 0.5 -0.4832860319541887 0.07946495373433861"
     ]
    },
    {
     "name": "stdout",
     "output_type": "stream",
     "text": [
      "\n",
      "0.5 1.5 0.75 -0.5022819608457287 0.10424177546429088\n"
     ]
    },
    {
     "name": "stdout",
     "output_type": "stream",
     "text": [
      "0.5 1.5 1.0 -0.5272841940740226 0.08935765878303889"
     ]
    },
    {
     "name": "stdout",
     "output_type": "stream",
     "text": [
      "\n",
      "0.5 2.0 0.25 -0.42710071782532394 0.06100210498527639"
     ]
    },
    {
     "name": "stdout",
     "output_type": "stream",
     "text": [
      "\n",
      "0.5 2.0 0.5 -0.4988155874142176 0.08023660654260682\n"
     ]
    },
    {
     "name": "stdout",
     "output_type": "stream",
     "text": [
      "0.5 2.0 0.75 -0.5278622157261286 0.10071625526400206\n"
     ]
    },
    {
     "name": "stdout",
     "output_type": "stream",
     "text": [
      "0.5 2.0 1.0 -0.5830109982326285 0.09590603894506884"
     ]
    },
    {
     "name": "stdout",
     "output_type": "stream",
     "text": [
      "\n",
      "0.6 0.5 0.25 -0.447395090789875 0.06936511700258"
     ]
    },
    {
     "name": "stdout",
     "output_type": "stream",
     "text": [
      "\n",
      "0.6 0.5 0.5 -0.5196023895632476 0.09393786816538843\n"
     ]
    },
    {
     "name": "stdout",
     "output_type": "stream",
     "text": [
      "0.6 0.5 0.75 -0.4928324110145153 0.09897042531333908\n"
     ]
    },
    {
     "name": "stdout",
     "output_type": "stream",
     "text": [
      "0.6 0.5 1.0 -0.5400716603968779 0.10595029805727876\n"
     ]
    },
    {
     "name": "stdout",
     "output_type": "stream",
     "text": [
      "0.6 1.0 0.25 -0.4519159144780813 0.07861389226308062\n"
     ]
    },
    {
     "name": "stdout",
     "output_type": "stream",
     "text": [
      "0.6 1.0 0.5 -0.5190619297374838 0.10359487717064447\n"
     ]
    },
    {
     "name": "stdout",
     "output_type": "stream",
     "text": [
      "0.6 1.0 0.75 -0.5387720735006101 0.0970002383649041"
     ]
    },
    {
     "name": "stdout",
     "output_type": "stream",
     "text": [
      "\n"
     ]
    },
    {
     "name": "stdout",
     "output_type": "stream",
     "text": [
      "0.6 1.0 1.0 -0.5456436887602546 0.12312357533474659"
     ]
    },
    {
     "name": "stdout",
     "output_type": "stream",
     "text": [
      "\n",
      "0.6 1.5 0.25 -0.4429581513602987 0.058942402082010376\n"
     ]
    },
    {
     "name": "stdout",
     "output_type": "stream",
     "text": [
      "0.6 1.5 0.5 -0.5439567541085143 0.0969974435513257"
     ]
    },
    {
     "name": "stdout",
     "output_type": "stream",
     "text": [
      "\n",
      "0.6 1.5 0.75 -0.5614933357927008 0.09605135208626256"
     ]
    },
    {
     "name": "stdout",
     "output_type": "stream",
     "text": [
      "\n",
      "0.6 1.5 1.0 -0.5628226025406653 0.09919932116892584\n"
     ]
    },
    {
     "name": "stdout",
     "output_type": "stream",
     "text": [
      "0.6 2.0 0.25 -0.44233860560283866 0.06454706799814783\n"
     ]
    },
    {
     "name": "stdout",
     "output_type": "stream",
     "text": [
      "0.6 2.0 0.5 -0.5240400395039182 0.08797840308946958"
     ]
    },
    {
     "name": "stdout",
     "output_type": "stream",
     "text": [
      "\n",
      "0.6 2.0 0.75 -0.586271853658899 0.09170865076508707"
     ]
    },
    {
     "name": "stdout",
     "output_type": "stream",
     "text": [
      "\n",
      "0.6 2.0 1.0 -0.6194430187794812 0.08560963027976184\n"
     ]
    },
    {
     "name": "stdout",
     "output_type": "stream",
     "text": [
      "0.7 0.5 0.25 -0.4936591262935651 0.08375192884275294\n"
     ]
    },
    {
     "name": "stdout",
     "output_type": "stream",
     "text": [
      "0.7 0.5 0.5 -0.5254342141145361 0.10032936563298193"
     ]
    },
    {
     "name": "stdout",
     "output_type": "stream",
     "text": [
      "\n",
      "0.7 0.5 0.75 -0.5575130436735588 0.10172195824863997\n"
     ]
    },
    {
     "name": "stdout",
     "output_type": "stream",
     "text": [
      "0.7 0.5 1.0 -0.5756290781588067 0.10135678784277957\n"
     ]
    },
    {
     "name": "stdout",
     "output_type": "stream",
     "text": [
      "0.7 1.0 0.25 -0.5017146414251509 0.08849492643514678"
     ]
    },
    {
     "name": "stdout",
     "output_type": "stream",
     "text": [
      "\n",
      "0.7 1.0 0.5 -0.5553664204562174 0.09915972296126226\n"
     ]
    },
    {
     "name": "stdout",
     "output_type": "stream",
     "text": [
      "0.7 1.0 0.75 -0.5630513317642231 0.10376279124085222\n"
     ]
    },
    {
     "name": "stdout",
     "output_type": "stream",
     "text": [
      "0.7 1.0 1.0 -0.5766262603918352 0.09529741761402322\n"
     ]
    },
    {
     "name": "stdout",
     "output_type": "stream",
     "text": [
      "0.7 1.5 0.25 -0.49062464594740135 0.08370077824499311"
     ]
    },
    {
     "name": "stdout",
     "output_type": "stream",
     "text": [
      "\n",
      "0.7 1.5 0.5 -0.5707216433205734 0.09500962486909856"
     ]
    },
    {
     "name": "stdout",
     "output_type": "stream",
     "text": [
      "\n",
      "0.7 1.5 0.75 -0.579046326322314 0.07997126570490798\n"
     ]
    },
    {
     "name": "stdout",
     "output_type": "stream",
     "text": [
      "0.7 1.5 1.0 -0.6162432159017166 0.09659910501443754\n"
     ]
    },
    {
     "name": "stdout",
     "output_type": "stream",
     "text": [
      "0.7 2.0 0.25 -0.5137981633163984 0.08842474239315959"
     ]
    },
    {
     "name": "stdout",
     "output_type": "stream",
     "text": [
      "\n",
      "0.7 2.0 0.5 -0.588976826821781 0.08901689931514542\n"
     ]
    },
    {
     "name": "stdout",
     "output_type": "stream",
     "text": [
      "0.7 2.0 0.75 -0.6197000014454591 0.08142152229291895\n"
     ]
    },
    {
     "name": "stdout",
     "output_type": "stream",
     "text": [
      "0.7 2.0 1.0 -0.638030906929956 0.08465685197371421"
     ]
    },
    {
     "name": "stdout",
     "output_type": "stream",
     "text": [
      "\n"
     ]
    },
    {
     "name": "stdout",
     "output_type": "stream",
     "text": [
      "0.8 0.5 0.25 -0.5549481155883385 0.08980614638227069\n"
     ]
    },
    {
     "name": "stdout",
     "output_type": "stream",
     "text": [
      "0.8 0.5 0.5 -0.5920364026301522 0.0924956491154992\n"
     ]
    },
    {
     "name": "stdout",
     "output_type": "stream",
     "text": [
      "0.8 0.5 0.75 -0.6008524007864353 0.08801472367714301"
     ]
    },
    {
     "name": "stdout",
     "output_type": "stream",
     "text": [
      "\n",
      "0.8 0.5 1.0 -0.6272076632503601 0.09635181665279392\n"
     ]
    },
    {
     "name": "stdout",
     "output_type": "stream",
     "text": [
      "0.8 1.0 0.25 -0.528479941484183 0.0799236548630415"
     ]
    },
    {
     "name": "stdout",
     "output_type": "stream",
     "text": [
      "\n",
      "0.8 1.0 0.5 -0.6045302169887617 0.08163015322890452"
     ]
    },
    {
     "name": "stdout",
     "output_type": "stream",
     "text": [
      "\n"
     ]
    },
    {
     "name": "stdout",
     "output_type": "stream",
     "text": [
      "0.8 1.0 0.75 -0.5998647129699048 0.09090802899155968\n"
     ]
    },
    {
     "name": "stdout",
     "output_type": "stream",
     "text": [
      "0.8 1.0 "
     ]
    },
    {
     "name": "stdout",
     "output_type": "stream",
     "text": [
      "1.0 -0.6299888185968205 0.08404481556821211\n"
     ]
    },
    {
     "name": "stdout",
     "output_type": "stream",
     "text": [
      "0.8 1.5 0.25 -0.5287266602132766 0.09309702495357465"
     ]
    },
    {
     "name": "stdout",
     "output_type": "stream",
     "text": [
      "\n",
      "0.8 1.5 0.5 -0.6069781145343099 0.08865253716995354\n"
     ]
    },
    {
     "name": "stdout",
     "output_type": "stream",
     "text": [
      "0.8 1.5 0.75 -0.641096802673705 0.08244796057345664\n"
     ]
    },
    {
     "name": "stdout",
     "output_type": "stream",
     "text": [
      "0.8 1.5 1.0 -0.6320415843357333 0.08439647427600631"
     ]
    },
    {
     "name": "stdout",
     "output_type": "stream",
     "text": [
      "\n",
      "0.8 2.0 0.25 -0.5569736249934171 0.09192708622314928"
     ]
    },
    {
     "name": "stdout",
     "output_type": "stream",
     "text": [
      "\n",
      "0.8 2.0 0.5 -0.6168768644480352 0.08813439144235546\n"
     ]
    },
    {
     "name": "stdout",
     "output_type": "stream",
     "text": [
      "0.8 2.0 0.75 -0.6384882767316912 "
     ]
    },
    {
     "name": "stdout",
     "output_type": "stream",
     "text": [
      "0.07851213961089326\n"
     ]
    },
    {
     "name": "stdout",
     "output_type": "stream",
     "text": [
      "0.8 2.0 1.0 -0.6541761557525319 0.07096838449868657\n"
     ]
    }
   ],
   "source": [
    "#PS(2, 200, 0.6, 0.6, 0.7, score_top1, true)\n",
    "#GA(2, 200, 0.65, 0.005, var_locus_crossover, score_top1, true)\n",
    "\n",
    "result = []\n",
    "for innertia in 0.4:0.1:0.8\n",
    "    avg = Matrix{Float64}(undef, (4, 4))\n",
    "    stdev = Matrix{Float64}(undef, (4, 4))\n",
    "    for (i, cog) in enumerate(0.5:0.5:2)\n",
    "        for (j, soc) in enumerate(0.25:0.25:1)\n",
    "            scores = Float64[]\n",
    "            for iter in 1:75\n",
    "                push!(scores, PS(8, 200, innertia, cog, soc, score_top5, false))\n",
    "            end\n",
    "            avg[i, j] = mean(scores)\n",
    "            stdev[i, j] = std(scores)\n",
    "            println(innertia, \" \",cog, \" \",soc, \" \",mean(scores), \" \", std(scores))\n",
    "        end\n",
    "    end\n",
    "    push!(result, [avg, stdev])\n",
    "end\n",
    "\n",
    "#println(avg)\n",
    "#println(stdev)\n",
    "\n",
    "#scores = Float64[]\n",
    "#for iter in 1:50 \n",
    "#    push!(scores, PS(2, 200, 0.6, 0.8, 0.4, score_all, false))\n",
    "#end\n",
    "#println(mean(scores))\n",
    "#println(std(scores))\n",
    "#GA(2, 250, 0.7, 0.001, var_locus_crossover, score_top1, true)"
   ]
  }
 ],
 "metadata": {
  "kernelspec": {
   "display_name": "Julia 1.9.4",
   "language": "julia",
   "name": "julia-1.9"
  },
  "language_info": {
   "file_extension": ".jl",
   "mimetype": "application/julia",
   "name": "julia",
   "version": "1.9.4"
  }
 },
 "nbformat": 4,
 "nbformat_minor": 2
}
