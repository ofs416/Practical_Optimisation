{
 "cells": [
  {
   "cell_type": "code",
   "execution_count": 1,
   "metadata": {},
   "outputs": [
    {
     "data": {
      "text/plain": [
       "PGAPSO (generic function with 1 method)"
      ]
     },
     "metadata": {},
     "output_type": "display_data"
    }
   ],
   "source": [
    "using Printf\n",
    "using Statistics, Distributions\n",
    "using Plots\n",
    "using BenchmarkTools\n",
    "\n",
    "include(\"KBFunc.jl\")\n",
    "include(\"GeneticAlgo.jl\")\n",
    "include(\"Misc.jl\")\n",
    "include(\"ParticleSwarm.jl\")\n",
    "include(\"HybridGAPSO.jl\")"
   ]
  },
  {
   "cell_type": "code",
   "execution_count": 2,
   "metadata": {},
   "outputs": [
    {
     "data": {
      "text/plain": [
       "-0.3516000536826246"
      ]
     },
     "metadata": {},
     "output_type": "display_data"
    }
   ],
   "source": [
    "GA(2, 200, 0.65, 0.005, var_locus_crossover, score_top1, true)"
   ]
  },
  {
   "cell_type": "code",
   "execution_count": 3,
   "metadata": {},
   "outputs": [
    {
     "name": "stdout",
     "output_type": "stream",
     "text": [
      "0.5 0.001 -0.5046081958290649 0.05411401804537784\n"
     ]
    },
    {
     "name": "stdout",
     "output_type": "stream",
     "text": [
      "0.5 0.005 -0.5101513356722144 0.059659238291138304\n"
     ]
    },
    {
     "name": "stdout",
     "output_type": "stream",
     "text": [
      "0.5 0.01 -0.5064311095538337 0.052293711902385964\n"
     ]
    },
    {
     "name": "stdout",
     "output_type": "stream",
     "text": [
      "0.5 0.05 -0.48238247100169074 0.05288392683867397\n"
     ]
    },
    {
     "name": "stdout",
     "output_type": "stream",
     "text": [
      "0.6 0.001 -0.49803340547237396 0.04596478132559206\n"
     ]
    },
    {
     "name": "stdout",
     "output_type": "stream",
     "text": [
      "0.6 0.005 -0.5231345094631963 0.04883705815270072\n"
     ]
    },
    {
     "name": "stdout",
     "output_type": "stream",
     "text": [
      "0.6 0.01 -0.520469414690517 0.06609395851938643\n"
     ]
    },
    {
     "name": "stdout",
     "output_type": "stream",
     "text": [
      "0.6 0.05 -0.4855728255573606 0.04596196348166769"
     ]
    },
    {
     "name": "stdout",
     "output_type": "stream",
     "text": [
      "\n",
      "0.7 0.001 -0.5143226687673869 0.06207213987740178"
     ]
    },
    {
     "name": "stdout",
     "output_type": "stream",
     "text": [
      "\n",
      "0.7 0.005 -0.5003165034277854 0.05542647002462663"
     ]
    },
    {
     "name": "stdout",
     "output_type": "stream",
     "text": [
      "\n",
      "0.7 0.01 -0.49825247360764563 0.05187905816556821"
     ]
    },
    {
     "name": "stdout",
     "output_type": "stream",
     "text": [
      "\n",
      "0.7 0.05 -0.47495738918392816 0.045023333440699906\n"
     ]
    },
    {
     "name": "stdout",
     "output_type": "stream",
     "text": [
      "0.8 0.001 -0.5060629911126493 0.05072652213384197"
     ]
    },
    {
     "name": "stdout",
     "output_type": "stream",
     "text": [
      "\n",
      "0.8 0.005 -0.5112168449548622 0.057367497307741405\n"
     ]
    }
   ],
   "source": [
    "result = []\n",
    "avg = Matrix{Float64}(undef, (4, 4))\n",
    "stdev = Matrix{Float64}(undef, (4, 4))\n",
    "for (i, cro) in enumerate(0.5:0.1:0.8)\n",
    "    for (j, mut) in enumerate([0.001, 0.005, 0.01, 0.05])\n",
    "        scores = Float64[]\n",
    "        for iter in 1:50\n",
    "                push!(scores, GA(8, 200, cro, mut, var_locus_crossover, score_top1, false))\n",
    "        end\n",
    "        avg[i, j] = mean(scores)\n",
    "        stdev[i, j] = std(scores)\n",
    "        println(cro, \" \",mut, \" \",mean(scores), \" \", std(scores))\n",
    "    end\n",
    "end"
   ]
  },
  {
   "cell_type": "code",
   "execution_count": 2,
   "metadata": {},
   "outputs": [],
   "source": [
    "PGAPSO(8, 140, 0.6, 2.5, 2.0, 0.7, 0.1, var_locus_crossover, false)"
   ]
  },
  {
   "cell_type": "code",
   "execution_count": 2,
   "metadata": {},
   "outputs": [],
   "source": [
    "scores = []\n",
    "for iter in 1:1\n",
    "    push!(scores, PGAPSO(8, 140, 0.6, 2.5, 2.0, 0.7, 0.1, var_locus_crossover, false))\n",
    "end\n",
    "println(mean(scores))\n",
    "println(std(scores))"
   ]
  },
  {
   "cell_type": "code",
   "execution_count": 2,
   "metadata": {},
   "outputs": [
    {
     "name": "stdout",
     "output_type": "stream",
     "text": [
      "0.6 1.0 1.0 -0.5336563824685829 0.0896891376730024\n"
     ]
    },
    {
     "name": "stdout",
     "output_type": "stream",
     "text": [
      "0.6 1.0 1.5 -0.5893770652415907 0.0904843988554701\n"
     ]
    },
    {
     "name": "stdout",
     "output_type": "stream",
     "text": [
      "0.6 1.0 2.0 -0.6349304365363847 0.0983116953430351\n"
     ]
    },
    {
     "name": "stdout",
     "output_type": "stream",
     "text": [
      "0.6 "
     ]
    },
    {
     "name": "stdout",
     "output_type": "stream",
     "text": [
      "1.0 2.5 -0.6445587685539871 0.05864934974465389\n",
      "0.6 1.0 3.0 -0.5677085305335532 0.06822751606512915"
     ]
    },
    {
     "name": "stdout",
     "output_type": "stream",
     "text": [
      "\n",
      "0.6 1.5 1.0 -0.565918556957002 0.0935511400537373\n"
     ]
    },
    {
     "name": "stdout",
     "output_type": "stream",
     "text": [
      "0.6 1.5 1.5 -0.621101343368303 0.09046749158332383"
     ]
    },
    {
     "name": "stdout",
     "output_type": "stream",
     "text": [
      "\n",
      "0.6 1.5 2.0 -0.6574152891912749 0.05803372649637191\n"
     ]
    },
    {
     "name": "stdout",
     "output_type": "stream",
     "text": [
      "0.6 1.5 2.5 -0.6229937944283022 0.05346440599496606\n"
     ]
    },
    {
     "name": "stdout",
     "output_type": "stream",
     "text": [
      "0.6 1.5 3.0 -0.5464782559115315 0.04532933227466855\n"
     ]
    },
    {
     "name": "stdout",
     "output_type": "stream",
     "text": [
      "0.6 2.0 1.0 -0.5980816323629123 0.0895122021662041"
     ]
    },
    {
     "name": "stdout",
     "output_type": "stream",
     "text": [
      "\n",
      "0.6 2.0 1.5 -0.6374291072667977 0.08188337661566994"
     ]
    },
    {
     "name": "stdout",
     "output_type": "stream",
     "text": [
      "\n",
      "0.6 2.0 2.0 -0.6454585499376964 0.06501007957112388"
     ]
    },
    {
     "name": "stdout",
     "output_type": "stream",
     "text": [
      "\n",
      "0.6 2.0 2.5 -0.5895050095604283 0.052986917683204515"
     ]
    },
    {
     "name": "stdout",
     "output_type": "stream",
     "text": [
      "\n",
      "0.6 2.0 3.0 -0.5102734101402736 0.03762968891901383\n"
     ]
    },
    {
     "name": "stdout",
     "output_type": "stream",
     "text": [
      "0.6 2.5 1.0 -0.6336843255699479 0.07935199917553347\n"
     ]
    },
    {
     "name": "stdout",
     "output_type": "stream",
     "text": [
      "0.6 2.5 1.5 -0.6752775316473266 0.051988834377489176\n"
     ]
    },
    {
     "name": "stdout",
     "output_type": "stream",
     "text": [
      "0.6 2.5 2.0 -0.642664741846502 0.05350822635917523\n"
     ]
    },
    {
     "name": "stdout",
     "output_type": "stream",
     "text": [
      "0.6 2.5 2.5 -0.5440508143205889 0.05964090022480731"
     ]
    },
    {
     "name": "stdout",
     "output_type": "stream",
     "text": [
      "\n",
      "0.6 2.5 3.0 -0.46364751132548093 0.04506882827811343\n"
     ]
    },
    {
     "name": "stdout",
     "output_type": "stream",
     "text": [
      "0.6 3.0 1.0 -0.6445867295383308 0.08034414884462646\n"
     ]
    },
    {
     "name": "stdout",
     "output_type": "stream",
     "text": [
      "0.6 3.0 1.5 -0.6590766352918581 0.0603763763740634\n"
     ]
    },
    {
     "name": "stdout",
     "output_type": "stream",
     "text": [
      "0.6 3.0 2.0 -0.5968251840522992 0.0691538528137232"
     ]
    }
   ],
   "source": [
    "#PS(2, 200, 0.6, 0.6, 0.7, score_top1, true)\n",
    "#GA(2, 200, 0.65, 0.005, var_locus_crossover, score_top1, true)\n",
    "\n",
    "result = []\n",
    "for innertia in 0.6:0.1:0.8\n",
    "    avg = Matrix{Float64}(undef, (5, 5))\n",
    "    stdev = Matrix{Float64}(undef, (5, 5))\n",
    "    for (i, cog) in enumerate(1:0.5:3)\n",
    "        for (j, soc) in enumerate(1:0.5:3)\n",
    "            scores = Float64[]\n",
    "            for iter in 1:50\n",
    "                push!(scores, PSO(8, 140, innertia, cog, soc, false)[1])\n",
    "            end\n",
    "            avg[i, j] = mean(scores)\n",
    "            stdev[i, j] = std(scores)\n",
    "            println(innertia, \" \",cog, \" \",soc, \" \",mean(scores), \" \", std(scores))\n",
    "        end\n",
    "    end\n",
    "    push!(result, [avg, stdev])\n",
    "end\n",
    "\n",
    "#println(avg)\n",
    "#println(stdev)\n",
    "\n",
    "#scores = Float64[]\n",
    "#for iter in 1:50 \n",
    "#    push!(scores, PS(2, 200, 0.6, 0.8, 0.4, score_all, false))\n",
    "#end\n",
    "#println(mean(scores))\n",
    "#println(std(scores))\n",
    "#GA(2, 250, 0.7, 0.001, var_locus_crossover, score_top1, true)"
   ]
  }
 ],
 "metadata": {
  "kernelspec": {
   "display_name": "Julia 1.9.4",
   "language": "julia",
   "name": "julia-1.9"
  },
  "language_info": {
   "file_extension": ".jl",
   "mimetype": "application/julia",
   "name": "julia",
   "version": "1.9.4"
  }
 },
 "nbformat": 4,
 "nbformat_minor": 2
}
