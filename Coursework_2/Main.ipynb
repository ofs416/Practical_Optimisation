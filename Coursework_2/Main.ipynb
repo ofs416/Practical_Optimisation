{
 "cells": [
  {
   "cell_type": "code",
   "execution_count": 3,
   "metadata": {},
   "outputs": [
    {
     "data": {
      "text/plain": [
       "PS (generic function with 1 method)"
      ]
     },
     "metadata": {},
     "output_type": "display_data"
    }
   ],
   "source": [
    "using Printf\n",
    "using Statistics, Distributions\n",
    "using Plots\n",
    "using BenchmarkTools\n",
    "\n",
    "include(\"KBFunc.jl\")\n",
    "include(\"GeneticAlgo.jl\")\n",
    "include(\"Misc.jl\")\n",
    "include(\"ParticleSwarm.jl\")"
   ]
  },
  {
   "cell_type": "code",
   "execution_count": 5,
   "metadata": {},
   "outputs": [
    {
     "data": {
      "text/plain": [
       "-0.26289576903474043"
      ]
     },
     "metadata": {},
     "output_type": "display_data"
    }
   ],
   "source": [
    "PS(2, 500, 0.2, 0.6, 0.5, score_top1, false)\n",
    "#GA(2, 200, 0.65, 0.005, var_locus_crossover, score_top1, true)\n",
    "\n",
    "#avg = Matrix{Float64}(undef, (10, 3))\n",
    "#stdev = Matrix{Float64}(undef, (10, 3))\n",
    "#for (i, pop) in enumerate(100:100:1000)\n",
    "#    for (j, mut) in enumerate([0.0001, 0.001, 0.01])\n",
    "#        println(pop, mut)\n",
    "#        scores = Float64[]\n",
    "#        for iter in 1:75\n",
    "#            push!(scores, GA(8, 200, 0.005, var_locus_crossover, score_top5, false))\n",
    "#        end\n",
    "#        avg[i, j] = mean(scores)\n",
    "#        stdev[i, j] = std(scores)\n",
    "#    end\n",
    "#end\n",
    "\n",
    "#println(avg)\n",
    "#println(stdev)\n",
    "\n",
    "\n",
    "\n",
    "#scores = Float64[]\n",
    "#for iter in 1:100 \n",
    "#    push!(scores, PS(2, 500, 0.3, 0.48, 0.5, score_top1, false))\n",
    "#end\n",
    "#println(mean(scores))\n",
    "#GA(2, 250, 0.7, 0.001, var_locus_crossover, score_top1, true)"
   ]
  }
 ],
 "metadata": {
  "kernelspec": {
   "display_name": "Julia 1.9.4",
   "language": "julia",
   "name": "julia-1.9"
  },
  "language_info": {
   "file_extension": ".jl",
   "mimetype": "application/julia",
   "name": "julia",
   "version": "1.9.4"
  }
 },
 "nbformat": 4,
 "nbformat_minor": 2
}
