{
 "cells": [
  {
   "cell_type": "code",
   "execution_count": 120,
   "metadata": {},
   "outputs": [],
   "source": [
    "using Printf\n",
    "using Statistics\n",
    "using Plots"
   ]
  },
  {
   "cell_type": "code",
   "execution_count": 122,
   "metadata": {},
   "outputs": [
    {
     "data": {
      "text/plain": [
       "KBF (generic function with 1 method)"
      ]
     },
     "metadata": {},
     "output_type": "display_data"
    }
   ],
   "source": [
    "function KBF(args...)\n",
    "    if (sum(args) < 15*len(args)/2) | (prod(args)>0.75)\n",
    "        return Inf\n",
    "    else:\n",
    "        cosargs =  broadcast(cos, args)\n",
    "        num =  sum(cosargs .^4) - 2prod(cosargs .^2)\n",
    "        denom = sqrt(sum([index*num^2 for (index, num) in enumerate(args)]))\n",
    "        return num/denom\n",
    "    end\n",
    "end"
   ]
  },
  {
   "cell_type": "code",
   "execution_count": 124,
   "metadata": {},
   "outputs": [
    {
     "data": {
      "text/plain": [
       "1000-element LinRange{Float64, Int64}:\n",
       " 0.0, 0.01001, 0.02002, 0.03003, 0.04004, …, 9.96997, 9.97998, 9.98999, 10.0"
      ]
     },
     "metadata": {},
     "output_type": "display_data"
    }
   ],
   "source": [
    "x = y = LinRange(0, 10, 1000)"
   ]
  },
  {
   "cell_type": "code",
   "execution_count": 138,
   "metadata": {},
   "outputs": [],
   "source": [
    "surface(x, y, KBF, plot_title=\"Contour Plot\", camera=(180, 30), color=:turbo)"
   ]
  }
 ],
 "metadata": {
  "kernelspec": {
   "display_name": "Julia 1.9.4",
   "language": "julia",
   "name": "julia-1.9"
  },
  "language_info": {
   "file_extension": ".jl",
   "mimetype": "application/julia",
   "name": "julia",
   "version": "1.9.4"
  }
 },
 "nbformat": 4,
 "nbformat_minor": 2
}
