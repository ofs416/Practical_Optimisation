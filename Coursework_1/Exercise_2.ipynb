{
 "cells": [
  {
   "cell_type": "code",
   "execution_count": 1,
   "metadata": {
    "collapsed": true,
    "ExecuteTime": {
     "end_time": "2023-12-07T10:27:06.353077600Z",
     "start_time": "2023-12-07T10:27:06.342075500Z"
    }
   },
   "outputs": [],
   "source": [
    "import numpy as np\n",
    "\n",
    "import matplotlib.pyplot as plt\n",
    "import seaborn as sns\n",
    "sns.set(rc={'figure.figsize': (14, 8.27)}, font_scale=2)\n",
    "sns.set_palette('colorblind')"
   ]
  },
  {
   "cell_type": "markdown",
   "source": [
    "$min_x f_0(x)$ subject to $f_i(x) \\leq 0$ for $i = 1, ..., m$\n",
    "$f_0(x)$ and $f_i(x)$ are convex and twice differentiable."
   ],
   "metadata": {
    "collapsed": false
   }
  },
  {
   "cell_type": "markdown",
   "source": [
    "$min_x t f_0(x)$ $+$ $e(x)$ for any $t \\geq 0$ where $e(x)$ is a log barrier function."
   ],
   "metadata": {
    "collapsed": false
   }
  },
  {
   "cell_type": "markdown",
   "source": [
    "# A)"
   ],
   "metadata": {
    "collapsed": false
   }
  },
  {
   "cell_type": "markdown",
   "source": [
    "$min_x$$||Ax-b||_1 = \\sum_{i=1}^m |  a_{i} x - b_i |$\n",
    "$min_x$$||Ax-b||_1 = min_x \\sum_{i=1}^m min_{t_i}( -t \\leq a_i^Tx - b_i \\leq t)$\n",
    "which is $min_{x,t_i} \\sum_{i=1}^m t_1$\n",
    "with $-t_i \\leq a_i^Tx - b_i \\leq t_i$ for $i=1,...,m$\n",
    "This is equivalent to $min_x \\tilde{c}^T \\tilde{x}$ with constraint $\\tilde{A} \\tilde{x} \\leq \\tilde{b}$\n",
    "Where $$ \\tilde{x} =\n",
    "\\left(\\begin{array}{cc}\n",
    "x \\\\\n",
    "t\n",
    "\\end{array}\\right)\n",
    "$$\n",
    "$$ \\tilde{c} =\n",
    "\\left(\\begin{array}{cc}\n",
    "0 \\\\\n",
    "\\textbf{1}\n",
    "\\end{array}\\right)\n",
    "$$\n",
    "$$ \\tilde{A} =\n",
    "\\left(\\begin{array}{cc}\n",
    "A & -\\textbf{I}\\\\\n",
    "-A & -\\textbf{I}\n",
    "\\end{array}\\right)\n",
    "$$\n",
    "$$ \\tilde{b} =\n",
    "\\left(\\begin{array}{cc}\n",
    "b\\\\\n",
    "-b\n",
    "\\end{array}\\right)\n",
    "$$"
   ],
   "metadata": {
    "collapsed": false
   }
  },
  {
   "cell_type": "markdown",
   "source": [
    "Now we formulate teh problem as $min_x t \\tilde{c}^T \\tilde{x} - \\sum_{i=1}^{2m} log(\\tilde{b}_i - \\tilde{a}_i^T \\tilde{x} )$"
   ],
   "metadata": {
    "collapsed": false
   }
  },
  {
   "cell_type": "markdown",
   "source": [
    "this differentiates to $t \\tilde{c}^T  + \\sum_{i=1}^{2m} \\frac{1}{\\tilde{b}_i - \\tilde{a}_i^T \\tilde{x}  } (\\tilde{a}_i^T)$"
   ],
   "metadata": {
    "collapsed": false
   }
  },
  {
   "cell_type": "markdown",
   "source": [
    "# B)"
   ],
   "metadata": {
    "collapsed": false
   }
  },
  {
   "cell_type": "code",
   "execution_count": 2,
   "outputs": [],
   "source": [
    "Ab = []\n",
    "for i in range(5):\n",
    "    A = np.genfromtxt('2023-data/A' + str(i) + '.csv', delimiter=\",\")\n",
    "    b = np.genfromtxt('2023-data/b' + str(i) + '.csv', delimiter=\",\")\n",
    "    Ab.append((A, b))"
   ],
   "metadata": {
    "collapsed": false,
    "ExecuteTime": {
     "end_time": "2023-12-07T10:27:10.196246600Z",
     "start_time": "2023-12-07T10:27:06.351577500Z"
    }
   }
  },
  {
   "cell_type": "code",
   "execution_count": 3,
   "outputs": [],
   "source": [
    "A, b = Ab[3]"
   ],
   "metadata": {
    "collapsed": false,
    "ExecuteTime": {
     "end_time": "2023-12-07T10:27:10.211749800Z",
     "start_time": "2023-12-07T10:27:10.196746600Z"
    }
   }
  },
  {
   "cell_type": "code",
   "execution_count": 4,
   "outputs": [],
   "source": [
    "m, n = A.shape\n",
    "b = b.reshape((m, 1))\n",
    "c_til = np.zeros((n + m, 1))\n",
    "c_til[-m:] = 1\n",
    "b_til = np.vstack((b, -b))\n",
    "I = np.identity(m)\n",
    "A_til = np.vstack((np.hstack((A, -I)), np.hstack((-A, -I))))"
   ],
   "metadata": {
    "collapsed": false,
    "ExecuteTime": {
     "end_time": "2023-12-07T10:27:10.315767400Z",
     "start_time": "2023-12-07T10:27:10.212249200Z"
    }
   }
  },
  {
   "cell_type": "code",
   "execution_count": 5,
   "outputs": [],
   "source": [
    "def f(A, b, c, x, t):\n",
    "    if (A @ x - b <= 0).all():\n",
    "        function = t * c.T @ x - np.sum(np.log(b - A @ x))\n",
    "    else:\n",
    "        function = 'infeasible'\n",
    "    return function"
   ],
   "metadata": {
    "collapsed": false,
    "ExecuteTime": {
     "end_time": "2023-12-07T10:27:10.322268100Z",
     "start_time": "2023-12-07T10:27:10.302764900Z"
    }
   }
  },
  {
   "cell_type": "code",
   "execution_count": 6,
   "outputs": [],
   "source": [
    "def grad_f(x, A, b, c, t):\n",
    "    grad = t * c + A.T @ (1 / (b - A @ x))\n",
    "    return grad"
   ],
   "metadata": {
    "collapsed": false,
    "ExecuteTime": {
     "end_time": "2023-12-07T10:27:10.333270400Z",
     "start_time": "2023-12-07T10:27:10.318768300Z"
    }
   }
  },
  {
   "cell_type": "code",
   "execution_count": 15,
   "outputs": [],
   "source": [
    "def backtracking(x, A, b, c, grad, t, alpha = 0.2, beta= 0.3):\n",
    "    t_b = 1\n",
    "    while f(A, b, c, x - t_b * grad, t) == 'infeasible':\n",
    "        t_b = beta*t_b\n",
    "    while f(A, b, c, x - t_b * grad, t) > f(A, b, c, x, t) - alpha * t_b * grad.T @ grad:\n",
    "        t_b = beta * t_b\n",
    "    x = x - t_b * grad\n",
    "    return x"
   ],
   "metadata": {
    "collapsed": false,
    "ExecuteTime": {
     "end_time": "2023-12-07T18:46:03.881777300Z",
     "start_time": "2023-12-07T18:46:03.853272300Z"
    }
   }
  },
  {
   "cell_type": "code",
   "execution_count": 17,
   "outputs": [
    {
     "name": "stdout",
     "output_type": "stream",
     "text": [
      "Iteration:500,  func: [[2187.36750357]]\n",
      "Iteration:1000,  func: [[2182.07554925]]\n",
      "Iteration:1500,  func: [[2181.39805296]]\n",
      "Iteration:2000,  func: [[2181.28622894]]\n",
      "311.8043509021327\n",
      "Iteration:2500,  func: [[2181.25818906]]\n",
      "311.07675410108106\n"
     ]
    }
   ],
   "source": [
    "x = c_til\n",
    "for t, epsilon in [(2, 0.01)]:\n",
    "    iteration = 0\n",
    "    grad = grad_f(x, A_til, b_til, c_til, t)\n",
    "    while grad.T @ grad >= epsilon:\n",
    "        x = backtracking(x, A_til, b_til, c_til, grad, t)\n",
    "        grad = grad_f(x, A_til, b_til, c_til, t)\n",
    "        func = f(A_til, b_til, c_til, x, t)\n",
    "        iteration += 1\n",
    "        if iteration % 500 == 0:\n",
    "            print(f'Iteration:{iteration},  func: {func}')\n",
    "        if iteration % 2000 == 0:\n",
    "            residual = A @ x[:n] - b\n",
    "            print(np.sum(np.sqrt(residual*residual)))\n",
    "residual = A @ x[:n] - b\n",
    "print(np.sum(np.sqrt(residual*residual)))"
   ],
   "metadata": {
    "collapsed": false,
    "ExecuteTime": {
     "end_time": "2023-12-07T18:49:28.557844100Z",
     "start_time": "2023-12-07T18:48:30.880311600Z"
    }
   }
  },
  {
   "cell_type": "code",
   "execution_count": 8,
   "outputs": [
    {
     "name": "stdout",
     "output_type": "stream",
     "text": [
      "Iteration:500,  func: [[766.6678099]]\n",
      "Iteration:1000,  func: [[679.2148993]]\n",
      "Iteration:1500,  func: [[666.05046371]]\n",
      "Iteration:2000,  func: [[665.38456226]]\n",
      "318.55396732084984\n",
      "Iteration:500,  func: [[7405.47969499]]\n",
      "Iteration:1000,  func: [[7115.90256079]]\n",
      "Iteration:1500,  func: [[7041.95167822]]\n",
      "Iteration:2000,  func: [[7014.58387727]]\n",
      "299.9103602820883\n",
      "Iteration:2500,  func: [[7001.1405145]]\n",
      "Iteration:3000,  func: [[6992.91947755]]\n",
      "Iteration:3500,  func: [[6986.32092677]]\n",
      "Iteration:4000,  func: [[6982.37702396]]\n",
      "290.17974359051493\n",
      "Iteration:4500,  func: [[6980.01576468]]\n",
      "Iteration:5000,  func: [[6978.01493234]]\n",
      "Iteration:5500,  func: [[6976.65082146]]\n",
      "Iteration:6000,  func: [[6975.68991363]]\n",
      "287.02303131960537\n",
      "Iteration:6500,  func: [[6975.02133414]]\n",
      "Iteration:7000,  func: [[6974.54262506]]\n",
      "Iteration:7500,  func: [[6974.19370265]]\n",
      "Iteration:500,  func: [[36248.152219]]\n",
      "Iteration:1000,  func: [[35761.61619013]]\n",
      "Iteration:1500,  func: [[35566.56194806]]\n",
      "Iteration:2000,  func: [[35451.65896459]]\n",
      "284.1706589173592\n",
      "Iteration:2500,  func: [[35374.96187317]]\n",
      "Iteration:3000,  func: [[35315.27344908]]\n",
      "Iteration:3500,  func: [[35265.4753746]]\n",
      "Iteration:4000,  func: [[35222.53721628]]\n",
      "281.31844316779507\n",
      "Iteration:4500,  func: [[35184.6615406]]\n",
      "Iteration:5000,  func: [[35150.76403539]]\n",
      "Iteration:5500,  func: [[35119.26824046]]\n",
      "Iteration:6000,  func: [[35089.95735129]]\n",
      "279.2842714977031\n",
      "Iteration:6500,  func: [[35063.03301035]]\n",
      "Iteration:7000,  func: [[35037.26900124]]\n",
      "Iteration:7500,  func: [[35012.92262234]]\n",
      "Iteration:8000,  func: [[34990.63551035]]\n",
      "277.72680825893656\n",
      "Iteration:8500,  func: [[34969.56688509]]\n",
      "Iteration:9000,  func: [[34950.26256969]]\n",
      "Iteration:9500,  func: [[34933.24901498]]\n",
      "Iteration:10000,  func: [[34910.99482687]]\n",
      "276.47239431109654\n",
      "Iteration:10500,  func: [[34891.49540601]]\n",
      "Iteration:11000,  func: [[34875.26639008]]\n",
      "Iteration:11500,  func: [[34859.5034392]]\n",
      "Iteration:12000,  func: [[34845.57787018]]\n",
      "275.4170497891559\n",
      "Iteration:12500,  func: [[34832.84842066]]\n",
      "Iteration:13000,  func: [[34821.903364]]\n",
      "Iteration:13500,  func: [[34809.39810272]]\n",
      "Iteration:14000,  func: [[34796.61894702]]\n",
      "274.6171450156885\n",
      "Iteration:14500,  func: [[34785.54869018]]\n",
      "Iteration:15000,  func: [[34774.46574168]]\n",
      "Iteration:15500,  func: [[34763.89192221]]\n",
      "Iteration:16000,  func: [[34753.96343906]]\n",
      "273.93123923777136\n",
      "Iteration:16500,  func: [[34744.64945032]]\n",
      "Iteration:17000,  func: [[34735.8906715]]\n",
      "Iteration:17500,  func: [[34727.61968296]]\n",
      "Iteration:18000,  func: [[34719.78266422]]\n",
      "273.3857011676506\n",
      "Iteration:18500,  func: [[34712.35826537]]\n",
      "Iteration:19000,  func: [[34705.30134205]]\n",
      "Iteration:19500,  func: [[34698.57749956]]\n",
      "Iteration:20000,  func: [[34692.15859892]]\n",
      "272.9438379481471\n",
      "Iteration:20500,  func: [[34686.02907758]]\n",
      "Iteration:21000,  func: [[34680.16563948]]\n",
      "Iteration:21500,  func: [[34674.55983667]]\n",
      "Iteration:22000,  func: [[34669.1644747]]\n",
      "272.57322203356125\n",
      "Iteration:22500,  func: [[34664.00012241]]\n",
      "Iteration:23000,  func: [[34659.0525836]]\n",
      "Iteration:23500,  func: [[34654.27948792]]\n",
      "Iteration:24000,  func: [[34649.67764067]]\n",
      "272.2556646466831\n",
      "Iteration:24500,  func: [[34645.25157787]]\n",
      "Iteration:25000,  func: [[34640.99978375]]\n",
      "Iteration:25500,  func: [[34636.87611396]]\n",
      "Iteration:26000,  func: [[34632.89281517]]\n",
      "271.97988579392074\n",
      "Iteration:26500,  func: [[34629.04299156]]\n",
      "Iteration:27000,  func: [[34625.32021012]]\n",
      "Iteration:27500,  func: [[34621.71848035]]\n",
      "Iteration:28000,  func: [[34618.23222709]]\n",
      "271.7372361717538\n",
      "Iteration:28500,  func: [[34614.85632166]]\n",
      "Iteration:29000,  func: [[34611.57086513]]\n",
      "Iteration:29500,  func: [[34608.3869542]]\n",
      "Iteration:30000,  func: [[34605.30008209]]\n",
      "271.52255824862004\n",
      "Iteration:30500,  func: [[34602.29831405]]\n",
      "Iteration:31000,  func: [[34599.38786645]]\n",
      "Iteration:31500,  func: [[34596.42470377]]\n",
      "Iteration:32000,  func: [[34593.60700726]]\n",
      "271.3275135854501\n",
      "Iteration:32500,  func: [[34590.73113283]]\n",
      "Iteration:33000,  func: [[34588.02494289]]\n",
      "Iteration:33500,  func: [[34585.33061075]]\n",
      "Iteration:34000,  func: [[34582.68936068]]\n",
      "271.1455393813572\n",
      "Iteration:34500,  func: [[34580.21385817]]\n",
      "Iteration:35000,  func: [[34577.63478266]]\n",
      "Iteration:35500,  func: [[34575.13000815]]\n",
      "Iteration:36000,  func: [[34572.72078164]]\n",
      "270.9791600523041\n",
      "Iteration:36500,  func: [[34570.33512011]]\n",
      "Iteration:37000,  func: [[34567.98140932]]\n",
      "Iteration:37500,  func: [[34565.66217458]]\n",
      "Iteration:38000,  func: [[34563.38083471]]\n",
      "270.8222785558346\n",
      "Iteration:38500,  func: [[34561.16583833]]\n",
      "Iteration:39000,  func: [[34559.01673448]]\n",
      "Iteration:39500,  func: [[34556.92427518]]\n",
      "Iteration:40000,  func: [[34554.89220691]]\n",
      "270.6791208591841\n",
      "Iteration:40500,  func: [[34552.91397044]]\n",
      "Iteration:41000,  func: [[34550.9878961]]\n",
      "Iteration:41500,  func: [[34549.11581174]]\n",
      "Iteration:42000,  func: [[34547.28963945]]\n",
      "270.55101986770467\n",
      "Iteration:42500,  func: [[34545.50680478]]\n",
      "Iteration:43000,  func: [[34543.77365313]]\n",
      "Iteration:43500,  func: [[34542.07460046]]\n",
      "Iteration:44000,  func: [[34540.42673051]]\n",
      "270.43516965651713\n",
      "Iteration:44500,  func: [[34538.81184427]]\n",
      "Iteration:45000,  func: [[34537.22901154]]\n",
      "Iteration:45500,  func: [[34535.69171608]]\n",
      "Iteration:46000,  func: [[34534.18463496]]\n",
      "270.32953156463253\n",
      "Iteration:46500,  func: [[34532.72016518]]\n",
      "Iteration:47000,  func: [[34531.28311395]]\n",
      "Iteration:47500,  func: [[34529.87269948]]\n",
      "Iteration:48000,  func: [[34528.50145444]]\n",
      "270.2329098842817\n",
      "Iteration:48500,  func: [[34527.15504766]]\n",
      "Iteration:49000,  func: [[34525.83194692]]\n",
      "Iteration:49500,  func: [[34524.54585088]]\n",
      "Iteration:50000,  func: [[34523.28162336]]\n",
      "270.1435676242102\n",
      "Iteration:50500,  func: [[34522.04598961]]\n",
      "Iteration:51000,  func: [[34520.82999356]]\n",
      "Iteration:51500,  func: [[34519.64062931]]\n",
      "Iteration:52000,  func: [[34518.47124016]]\n",
      "270.06067023243867\n",
      "Iteration:52500,  func: [[34517.33230663]]\n",
      "Iteration:53000,  func: [[34516.2117049]]\n",
      "Iteration:53500,  func: [[34515.10895663]]\n",
      "Iteration:54000,  func: [[34514.02367032]]\n",
      "269.98358491426893\n",
      "Iteration:54500,  func: [[34512.96621939]]\n",
      "Iteration:55000,  func: [[34511.92502189]]\n",
      "Iteration:55500,  func: [[34510.8995663]]\n",
      "Iteration:56000,  func: [[34509.90118857]]\n",
      "269.9117674311278\n",
      "Iteration:56500,  func: [[34508.90598167]]\n",
      "Iteration:57000,  func: [[34507.9363865]]\n",
      "Iteration:57500,  func: [[34506.99152262]]\n",
      "Iteration:58000,  func: [[34506.0492758]]\n",
      "269.84435428376554\n",
      "Iteration:58500,  func: [[34505.13146833]]\n",
      "Iteration:59000,  func: [[34504.2266138]]\n",
      "Iteration:59500,  func: [[34503.33465746]]\n",
      "Iteration:60000,  func: [[34502.46458037]]\n",
      "269.7813029212774\n",
      "Iteration:60500,  func: [[34501.59726371]]\n",
      "Iteration:61000,  func: [[34500.75153824]]\n",
      "Iteration:61500,  func: [[34499.91742652]]\n",
      "Iteration:62000,  func: [[34499.10405593]]\n",
      "269.72185107495443\n",
      "Iteration:62500,  func: [[34498.29283742]]\n",
      "Iteration:63000,  func: [[34497.50087237]]\n",
      "Iteration:63500,  func: [[34496.72024363]]\n",
      "Iteration:64000,  func: [[34495.94943781]]\n",
      "269.66555956776597\n",
      "Iteration:64500,  func: [[34495.1980055]]\n",
      "Iteration:65000,  func: [[34494.45675966]]\n",
      "Iteration:65500,  func: [[34493.71618987]]\n",
      "Iteration:66000,  func: [[34492.99394523]]\n",
      "269.6123174380843\n",
      "Iteration:66500,  func: [[34492.28925657]]\n",
      "Iteration:67000,  func: [[34491.5814212]]\n",
      "Iteration:67500,  func: [[34490.88302071]]\n",
      "Iteration:68000,  func: [[34490.19788105]]\n",
      "269.56155374065065\n",
      "Iteration:68500,  func: [[34489.51029076]]\n",
      "Iteration:69000,  func: [[34488.82781342]]\n",
      "Iteration:69500,  func: [[34488.16594983]]\n",
      "Iteration:70000,  func: [[34487.51271693]]\n",
      "269.51244289670956\n",
      "Iteration:70500,  func: [[34486.86775079]]\n",
      "Iteration:71000,  func: [[34486.23094054]]\n",
      "Iteration:71500,  func: [[34485.60241675]]\n",
      "Iteration:72000,  func: [[34484.99293031]]\n",
      "269.46611007020016\n",
      "Iteration:72500,  func: [[34484.39116223]]\n",
      "Iteration:73000,  func: [[34483.79694991]]\n",
      "Iteration:73500,  func: [[34483.21029515]]\n",
      "Iteration:74000,  func: [[34482.64139151]]\n",
      "269.42259178468447\n",
      "Iteration:74500,  func: [[34482.07964382]]\n",
      "Iteration:75000,  func: [[34481.52479912]]\n",
      "Iteration:75500,  func: [[34480.97675978]]\n",
      "Iteration:76000,  func: [[34480.43559562]]\n",
      "269.38131421568505\n",
      "Iteration:76500,  func: [[34479.91094646]]\n",
      "Iteration:77000,  func: [[34479.39280158]]\n",
      "Iteration:77500,  func: [[34478.88092694]]\n",
      "Iteration:78000,  func: [[34478.37520025]]\n",
      "269.342303669186\n",
      "Iteration:78500,  func: [[34477.87566758]]\n",
      "Iteration:79000,  func: [[34477.38242835]]\n",
      "Iteration:79500,  func: [[34476.88707821]]\n",
      "Iteration:80000,  func: [[34476.39753162]]\n",
      "269.3044440116048\n",
      "Iteration:80500,  func: [[34475.91162881]]\n",
      "Iteration:81000,  func: [[34475.43191139]]\n",
      "Iteration:81500,  func: [[34474.95588672]]\n",
      "Iteration:82000,  func: [[34474.482993]]\n",
      "269.2673647172501\n",
      "Iteration:82500,  func: [[34474.01626078]]\n",
      "Iteration:83000,  func: [[34473.55265388]]\n",
      "Iteration:83500,  func: [[34473.0927912]]\n",
      "Iteration:84000,  func: [[34472.63895548]]\n",
      "269.2312252492942\n",
      "Iteration:84500,  func: [[34472.18879944]]\n",
      "Iteration:85000,  func: [[34471.74413795]]\n",
      "Iteration:85500,  func: [[34471.30314314]]\n",
      "Iteration:86000,  func: [[34470.86582696]]\n",
      "269.19603397061525\n",
      "Iteration:86500,  func: [[34470.43394735]]\n",
      "Iteration:87000,  func: [[34470.00573241]]\n",
      "Iteration:87500,  func: [[34469.58329241]]\n",
      "Iteration:88000,  func: [[34469.16450242]]\n",
      "269.1618079438572\n",
      "Iteration:88500,  func: [[34468.74891558]]\n",
      "Iteration:89000,  func: [[34468.33905668]]\n",
      "Iteration:89500,  func: [[34467.93485179]]\n",
      "Iteration:90000,  func: [[34467.53179091]]\n",
      "269.12848255169655\n",
      "Iteration:90500,  func: [[34467.13632628]]\n",
      "Iteration:91000,  func: [[34466.74248708]]\n",
      "Iteration:91500,  func: [[34466.3538]]\n",
      "Iteration:92000,  func: [[34465.97092296]]\n",
      "269.09618237626074\n",
      "Iteration:92500,  func: [[34465.59120577]]\n",
      "Iteration:93000,  func: [[34465.21465454]]\n",
      "Iteration:93500,  func: [[34464.84382946]]\n",
      "Iteration:94000,  func: [[34464.47614016]]\n",
      "269.06483657603934\n",
      "Iteration:94500,  func: [[34464.11372925]]\n",
      "Iteration:95000,  func: [[34463.75442644]]\n",
      "Iteration:95500,  func: [[34463.40066214]]\n",
      "Iteration:96000,  func: [[34463.04997189]]\n",
      "269.0345475281226\n",
      "Iteration:96500,  func: [[34462.70238498]]\n",
      "Iteration:97000,  func: [[34462.36018926]]\n",
      "Iteration:97500,  func: [[34462.02266391]]\n",
      "Iteration:98000,  func: [[34461.6885686]]\n",
      "269.0052143706202\n",
      "Iteration:98500,  func: [[34461.35769431]]\n",
      "Iteration:99000,  func: [[34461.03144073]]\n",
      "Iteration:99500,  func: [[34460.70851613]]\n",
      "Iteration:100000,  func: [[34460.39036815]]\n",
      "268.9767054932432\n",
      "Iteration:100500,  func: [[34460.07548242]]\n",
      "Iteration:101000,  func: [[34459.76500956]]\n",
      "Iteration:101500,  func: [[34459.45775585]]\n",
      "Iteration:102000,  func: [[34459.15509449]]\n",
      "268.94933824840234\n",
      "Iteration:102500,  func: [[34458.85559763]]\n",
      "Iteration:103000,  func: [[34458.56035002]]\n",
      "Iteration:103500,  func: [[34458.26822045]]\n",
      "Iteration:104000,  func: [[34457.98050058]]\n",
      "268.9230974429081\n",
      "Iteration:104500,  func: [[34457.69584631]]\n",
      "Iteration:105000,  func: [[34457.41526828]]\n",
      "Iteration:105500,  func: [[34457.13770722]]\n",
      "Iteration:106000,  func: [[34456.8643733]]\n",
      "268.8977490699075\n",
      "Iteration:106500,  func: [[34456.59399872]]\n",
      "Iteration:107000,  func: [[34456.32753493]]\n",
      "Iteration:107500,  func: [[34456.0639809]]\n",
      "Iteration:108000,  func: [[34455.80447115]]\n",
      "268.87333310598126\n",
      "Iteration:108500,  func: [[34455.54899531]]\n",
      "Iteration:109000,  func: [[34455.29490005]]\n",
      "Iteration:109500,  func: [[34455.0461012]]\n",
      "Iteration:110000,  func: [[34454.79983408]]\n",
      "268.849988187374\n",
      "Iteration:110500,  func: [[34454.55609029]]\n",
      "Iteration:111000,  func: [[34454.31633773]]\n",
      "Iteration:111500,  func: [[34454.08010915]]\n",
      "Iteration:112000,  func: [[34453.84652221]]\n",
      "268.82751671576625\n",
      "Iteration:112500,  func: [[34453.61656443]]\n",
      "Iteration:113000,  func: [[34453.38920435]]\n",
      "Iteration:113500,  func: [[34453.16517722]]\n",
      "Iteration:114000,  func: [[34452.94369577]]\n",
      "268.80600557022456\n",
      "Iteration:114500,  func: [[34452.72567207]]\n",
      "Iteration:115000,  func: [[34452.51012283]]\n",
      "Iteration:115500,  func: [[34452.29777776]]\n",
      "Iteration:116000,  func: [[34452.08892574]]\n",
      "268.7853802073969\n",
      "Iteration:116500,  func: [[34451.88227064]]\n",
      "Iteration:117000,  func: [[34451.6788623]]\n",
      "Iteration:117500,  func: [[34451.47759858]]\n",
      "Iteration:118000,  func: [[34451.27966871]]\n",
      "268.7656423058538\n"
     ]
    }
   ],
   "source": [
    ", opt_x_t = []\n",
    "x = c_til\n",
    "costs = []\n",
    "for t, epsilon in [(1, 0.001), (10, 10), (100, 1000)]:\n",
    "    iteration = 0\n",
    "    grad = grad_f(x, A_til, b_til, c_til, t)\n",
    "    while grad.T @ grad >= epsilon:\n",
    "        x = backtracking(x, A_til, b_til, c_til, grad, t)\n",
    "        grad = grad_f(x, A_til, b_til, c_til, t)\n",
    "        func = f(A_til, b_til, c_til, x, t)\n",
    "        costs.append(func)\n",
    "        iteration += 1\n",
    "        if iteration % 500 == 0:\n",
    "            print(f'Iteration:{iteration},  func: {func}')\n",
    "        if iteration % 2000 == 0:\n",
    "            residual = A @ x[:n] - b\n",
    "            print(np.sum(np.sqrt(residual*residual)))\n",
    "            opt_x_t.append(x)"
   ],
   "metadata": {
    "collapsed": false,
    "ExecuteTime": {
     "end_time": "2023-12-07T11:31:12.415517700Z",
     "start_time": "2023-12-07T10:27:10.356274600Z"
    }
   }
  },
  {
   "cell_type": "code",
   "execution_count": 9,
   "outputs": [
    {
     "name": "stdout",
     "output_type": "stream",
     "text": [
      "268.7656423058538\n"
     ]
    }
   ],
   "source": [
    "residual = A @ opt_x_t[-1][:n] - b\n",
    "print(np.sum(np.sqrt(residual*residual)))"
   ],
   "metadata": {
    "collapsed": false,
    "ExecuteTime": {
     "end_time": "2023-12-07T11:31:12.430875200Z",
     "start_time": "2023-12-07T11:31:12.416372200Z"
    }
   }
  },
  {
   "cell_type": "code",
   "execution_count": 11,
   "outputs": [],
   "source": [
    "costs = np.asarray(costs)\n",
    "costs = costs.reshape((costs.shape[0]))"
   ],
   "metadata": {
    "collapsed": false,
    "ExecuteTime": {
     "end_time": "2023-12-07T11:31:12.569899200Z",
     "start_time": "2023-12-07T11:31:12.446378400Z"
    }
   }
  },
  {
   "cell_type": "code",
   "execution_count": 12,
   "outputs": [
    {
     "data": {
      "text/plain": "<Figure size 1400x827 with 1 Axes>",
      "image/png": "[encoded data removed]"
     },
     "metadata": {},
     "output_type": "display_data"
    }
   ],
   "source": [
    "plt.plot(costs)\n",
    "plt.ylabel('Cost')\n",
    "plt.xlabel('Iterations')\n",
    "plt.xlim(-5, 17000)\n",
    "plt.savefig('Figures/ex2_costViterations.png', format=\"png\", dpi=800, bbox_inches=\"tight\")\n",
    "plt.show()\n",
    "plt.close()"
   ],
   "metadata": {
    "collapsed": false,
    "ExecuteTime": {
     "end_time": "2023-12-07T11:31:17.017674300Z",
     "start_time": "2023-12-07T11:31:12.573399300Z"
    }
   }
  },
  {
   "cell_type": "code",
   "execution_count": 12,
   "outputs": [],
   "source": [],
   "metadata": {
    "collapsed": false,
    "ExecuteTime": {
     "end_time": "2023-12-07T11:31:17.032676Z",
     "start_time": "2023-12-07T11:31:17.018174200Z"
    }
   }
  }
 ],
 "metadata": {
  "kernelspec": {
   "display_name": "Python 3",
   "language": "python",
   "name": "python3"
  },
  "language_info": {
   "codemirror_mode": {
    "name": "ipython",
    "version": 2
   },
   "file_extension": ".py",
   "mimetype": "text/x-python",
   "name": "python",
   "nbconvert_exporter": "python",
   "pygments_lexer": "ipython2",
   "version": "2.7.6"
  }
 },
 "nbformat": 4,
 "nbformat_minor": 0
}
